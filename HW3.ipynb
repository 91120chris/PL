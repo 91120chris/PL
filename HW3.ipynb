{
  "nbformat": 4,
  "nbformat_minor": 0,
  "metadata": {
    "colab": {
      "provenance": []
    },
    "kernelspec": {
      "name": "python3",
      "display_name": "Python 3"
    },
    "language_info": {
      "name": "python"
    }
  },
  "cells": [
    {
      "cell_type": "code",
      "source": [
        "import requests\n",
        "from bs4 import BeautifulSoup\n",
        "import pandas as pd\n",
        "import re"
      ],
      "metadata": {
        "id": "pn4iTDWesonr"
      },
      "execution_count": 1,
      "outputs": []
    },
    {
      "cell_type": "code",
      "source": [
        "url = 'https://www.ettoday.net/news/news-list.htm'"
      ],
      "metadata": {
        "id": "kDiU2sL_s8IQ"
      },
      "execution_count": 2,
      "outputs": []
    },
    {
      "cell_type": "code",
      "source": [
        "response = requests.get(url)"
      ],
      "metadata": {
        "id": "JxmbKZlkswu8"
      },
      "execution_count": 3,
      "outputs": []
    },
    {
      "cell_type": "code",
      "source": [
        "response.text"
      ],
      "metadata": {
        "colab": {
          "base_uri": "https://localhost:8080/",
          "height": 196
        },
        "id": "_ip4zoeCtKxi",
        "outputId": "75c56fff-7763-4c4e-e8dc-11b381a7b9f8"
      },
      "execution_count": 4,
      "outputs": [
        {
          "output_type": "execute_result",
          "data": {
            "text/plain": [
              "'<!doctype html>\\r\\n<html lang=\"zh-Hant\" prefix=\"og:http://ogp.me/ns#\" xmlns:wb=\"http://open.weibo.com/wb\" itemscope itemtype=\"http://schema.org/WebSite\">\\r\\n<head>\\r\\n<meta charset=\"utf-8\">\\r\\n<!-- ★★★以下非共用★★★ 開始 -->\\r\\n<meta name=\"robots\" content=\"noarchive\"/>\\r\\n<title>新聞總覽 | ETtoday新聞雲</title>\\r\\n<link rel=\"canonical\" href=\"https://www.ettoday.net/news/news-list-2024-04-17-0.htm\"/>\\r\\n\\r\\n<!-- 網頁社群分享meta 開始 -->\\r\\n<meta property=\"og:url\" itemprop=\"url\" content=\"https://www.ettoday.net/news/news-list-2024-04-17-0.htm\"/>\\r\\n<meta property=\"og:title\" itemprop=\"name\" content=\"新聞總覽 | ETtoday新聞雲\"/>\\r\\n<meta property=\"og:image\" itemprop=\"image\" content=\"https://cdn2.ettoday.net/style/ettoday2017/images/push.jpg\"/>\\r\\n<meta property=\"og:image:width\" content=\"1200\"/>\\r\\n<meta property=\"og:image:height\" content=\"628\"/>\\r\\n<meta property=\"og:type\" content=\"article\"/>\\r\\n<meta name=\"description\" content=\"ETtoday.net線上提供即時新聞，包括政治、財經、社會及國際要聞，以及生活、消費、寵物、新奇、娛樂、運動、旅遊資訊和相關新聞報導。\" />\\r\\n<meta property=\"og:description\" itemprop=\"description\" content=\"ETtoday.net線上提供即時新聞，包括政治、財經、社會及國際要聞，以及生活、消費、寵物、新奇、娛樂、運動、旅遊資訊和相關新聞報導。\"/>\\r\\n<!-- 網頁社群分享meta 結束 -->\\r\\n<!-- ★★★以上非共用★★★ 結束 -->\\r\\n\\r\\n\\n<!-- 基本meta 開始 -->\\n<meta name=\"viewport\" content=\"width=1280\"/>\\n<meta name=\"robots\" content=\"index,follow,noarchive\"/>\\n<link rel=\"apple-touch-icon\" sizes=\"180x180\" href=\"//cdn2.ettoday.net/style/ettoday2017/images/touch-icon.png\"/>\\n<link rel=\"shortcut icon\" sizes=\"192x192\" href=\"//cdn2.ettoday.net/style/ettoday2017/images/touch-icon.png\"/>\\n<!-- 基本meta 結束 -->\\n\\n<!-- ★dns-prefetch 開始★ -->\\n<link rel=\"dns-prefetch\" href=\"//ad.ettoday.net\">\\n<link rel=\"dns-prefetch\" href=\"//ad1.ettoday.net\">\\n<link rel=\"dns-prefetch\" href=\"//ad2.ettoday.net\">\\n<link rel=\"dns-prefetch\" href=\"//cache.ettoday.net\">\\n<link rel=\"dns-prefetch\" href=\"//static.ettoday.net\">\\n<link rel=\"dns-prefetch\" href=\"//cdn1.ettoday.net\">\\n<link rel=\"dns-prefetch\" href=\"//cdn2.ettoday.net\">\\n<!-- ★dns-prefetch 結束★ -->\\n\\n<!-- 社群專用 開始 -->\\n<meta property=\"og:locale\" content=\"zh_TW\" />\\n<meta property=\"fb:app_id\" content=\"146858218737386\"/>\\n<meta property=\"og:site_name\" name=\"application-name\" content=\"ETtoday新聞雲\"/>\\n<meta property=\"article:publisher\" content=\"https://www.facebook.com/ETtoday\"/>\\n<!-- 社群專用 結束 -->\\n\\n<!-- CSS、JS 開始 -->\\n<link rel=\"stylesheet\" type=\"text/css\" href=\"https://cdn2.ettoday.net/style/ettoday2017/css/style.css\">\\n<script src=\"https://www.gstatic.com/firebasejs/4.8.1/firebase.js\"></script>\\n<script src=\"https://cdn2.ettoday.net/style/ettoday2017/js/all.js\"></script>\\n<!-- CSS、JS 結束 -->\\n\\n<!--DFP廣告js 開始-->\\n<script type=\"text/javascript\" src=\"//cdn2.ettoday.net/dfp/dfp-gpt.js\"></script>\\n<!--DFP廣告js 結束-->\\n\\n<!-- Google Tag Manager 開始 -->\\n<!--GTM DataLayer 開始-->\\n<script>\\n    dataLayer = [{\\n        \\'csscode\\':\\'\\',\\n        \\'page-id\\':\\'\\',\\n        \\'board-id\\':\\'\\',\\n        \\'category-id\\':\\'\\',\\n        \\'category-name1\\':\\'\\',\\n        \\'category-name2\\':\\'\\',\\n        \\'dept-name\\':\\'\\',\\n        \\'author-id\\':\\'\\',\\n        \\'author-name\\':\\'\\',\\n        \\'album-id\\':\\'\\',\\n        \\'album-category-id\\':\\'\\',\\n        \\'readtype\\':\\'PC\\',\\n        \\'pagetype\\':\\'\\',\\n        \\'et_token\\':\\'f10f78c7b95e4f18ab60f2f531071334\\'\\n    }];\\n</script>\\n<!--GTM DataLayer 結束-->\\n\\n\\n\\n\\n<!-- Google Tag Manager -->\\n<script>(function(w,d,s,l,i){w[l]=w[l]||[];w[l].push({\\'gtm.start\\':\\nnew Date().getTime(),event:\\'gtm.js\\'});var f=d.getElementsByTagName(s)[0],\\nj=d.createElement(s),dl=l!=\\'dataLayer\\'?\\'&l=\\'+l:\\'\\';j.async=true;j.src=\\n\\'https://www.googletagmanager.com/gtm.js?id=\\'+i+dl;f.parentNode.insertBefore(j,f);\\n})(window,document,\\'script\\',\\'dataLayer\\',\\'GTM-P5XXT85\\');</script>\\n<!-- End Google Tag Manager -->\\n\\n<!-- Global site tag (gtag.js) - Google Analytics 開始 -->\\n<script async src=\"https://www.googletagmanager.com/gtag/js?id=G-JQNDWD28RZ\"></script>\\n<script>\\n    window.dataLayer = window.dataLayer || [];\\n    function gtag(){dataLayer.push(arguments);}\\n    gtag(\\'js\\', new Date());\\n</script>\\n<!-- Global site tag (gtag.js) - Google Analytics 結束 -->\\n</head>\\r\\n\\r\\n<body>\\r\\n\\n<!-- FB Quote 選取文字分享 開始-->\\n<div class=\"fb-quote\"></div>\\n<!-- FB Quote 選取文字分享 結束-->\\n\\n<!-- Google Tag Manager (noscript) -->\\n<noscript><iframe src=\"https://www.googletagmanager.com/ns.html?id=GTM-P5XXT85\"\\nheight=\"0\" width=\"0\" style=\"display:none;visibility:hidden\"></iframe></noscript>\\n<!-- End Google Tag Manager (noscript) -->\\n\\n<!-- 內部流量統計碼、廣告統計碼容器 開始 -->\\n<div id=\"pcweb_pageviews\"></div>\\n<!-- 內部流量統計碼、廣告統計碼容器 結束 -->\\r\\n<!--wrapper_box 開始-->\\r\\n<div class=\"wrapper_box\">\\r\\n    \\r\\n    <!--wrapper 開始-->\\r\\n    <div class=\"wrapper\">\\t\\r\\n    \\t\\r\\n       \\r\\n\\r\\n        <!--轟天雷 廣告 開始-->\\r\\n        <div class=\"top-sky\">\\r\\n                <script language=\"JavaScript\" type=\"text/javascript\">\\r\\n                        var ts = Math.random();\\r\\n                        document.write(\\'<scr\\' + \\'ipt language=\"JavaScript\" type=\"text/javascript\" src=\"//ad1.ettoday.net/ads.php?bid=newslist_thunder&rr=\\'+ ts +\\'\"></scr\\' + \\'ipt>\\');\\r\\n                </script>\\r\\n        </div>\\r\\n        <!--轟天雷 廣告 結束-->\\r\\n        <!-- 雙門簾廣告 start -->\\r\\n        <div class=\"twin-curtain\">\\r\\n            <script language=\"JavaScript\" type=\"text/javascript\">\\r\\n                var ts = Math.random();\\r\\n                document.write(\\'<scr\\' + \\'ipt language=\"JavaScript\" type=\"text/javascript\" src=\"https://ad1.ettoday.net/ads.php?bid=newslist_curtain&rr=\\'+ ts +\\'\"></scr\\' + \\'ipt>\\');\\r\\n            </script>\\r\\n        </div>\\r\\n        <!-- 雙門簾廣告  end -->\\r\\n\\r\\n        <!--topbar_box 開始-->\\r\\n        <div class=\"topbar_box\">\\r\\n            <!--topbar 開始-->\\r\\n            <div class=\"topbar\">\\r\\n                <!--選單1 開始-->\\r\\n                <div class=\"menu_1\">\\r\\n                   \\u3000<ul class=\"clearfix\">\\r\\n\\r\\n                        <script>\\r\\n                            if($.cookie(\\'check_charset\\')==\"cn\"){\\r\\n                                document.write(\"<li><a href=\\\\\"javascript:void(0)\\\\\" onclick=\\\\\"location.replace(\\'/changeCharset.php?rtype=tw&rurl=https://www.ettoday.net/news/news-list.htm\\');\\\\\">繁體</a></li>\");\\r\\n                            }else{\\r\\n                                document.write(\"<li><a href=\\\\\"javascript:void(0)\\\\\" onclick=\\\\\"location.replace(\\'/changeCharset.php?rtype=cn&rurl=https://www.ettoday.net/news/news-list.htm\\');\\\\\">简体</a></li>\");\\r\\n                            }\\r\\n                        </script>\\r\\n                        <li>|</li>\\r\\n                        <li>\\r\\n                                                        <a href=\"#\" onclick=\"location.replace(\\'/changeReadType.php?rtype=0&rurl=%2F%2Fwww.ettoday.net%2Fnews%2Fnews-list.htm\\');\">手機版</a>\\r\\n                                                    </li>\\r\\n                        <li>|</li>\\r\\n                        <li><a href=\"//www.ettoday.net/events/app/ettoday_app.php7\" target=\"_blank\">App</a></li>\\r\\n                        <li>|</li>\\r\\n                        <li><a href=\"//www.ettoday.net/events/campaign/event-list.php7\" target=\"_blank\">歷史活動</a></li>\\r\\n                        <li>|</li>\\r\\n                        <li><a href=\"//www.ettoday.net/feature/index\" target=\"_blank\">歷史專題</a></li>                        <li>|</li>\\r\\n                        <li><a href=\"https://member.ettoday.net/\" target=\"_blank\">會員中心</a></li>\\r\\n                        <li>|</li>\\r\\n                        <li><a href=\"https://events.ettoday.net/outdoor-media/index.php7\" target=\"_blank\">家外媒體</a></li>\\r\\n                        <li>|</li>\\r\\n                        <li><a href=\"https://events.ettoday.net/adsales/index.php7\" target=\"_blank\">數位廣告刊登</a></li>\\r\\n                   \\u3000</ul>\\r\\n                </div>\\r\\n                <!--選單1 結束-->\\r\\n\\r\\n                <!--選單2 開始-->\\r\\n                <div class=\"menu_2\">\\r\\n                    <ul class=\"clearfix\">\\r\\n                                                <li><a href=\"https://www.facebook.com/ETtoday\" class=\"btn fb\" target=\"_blank\" title=\"Facebook\">FB</a></li>\\r\\n                        <li><a href=\"https://www.youtube.com/user/ettoday/\" class=\"btn yt\" target=\"_blank\" title=\"YouTube\">YouTube</a></li>\\r\\n                        <li><a href=\"//www.instagram.com/ettodaytw/\" class=\"btn ig\" target=\"_blank\" title=\"Instagram\">IG</a></li>\\r\\n                                                <li><a href=\"//www.ettoday.net/events/news-express/epaper.php\" class=\"btn rss\" target=\"_blank\" title=\"RSS\">RSS</a></li>\\r\\n                        <li><a href=\"//weibo.com/ettodaynet\" class=\"btn weibo\" target=\"_blank\" title=\"微博\">weibo</a></li>\\r\\n                                                <li><a href=\"https://news.google.com/publications/CAAqBggKMK-yNzCn6gc?ceid=TW:zh-Hant&oc=3\" class=\"btn google_news\" target=\"_blank\" title=\"Google News\">Google News</a></li>\\r\\n                                            </ul>\\r\\n                </div>\\r\\n                <!--選單2 結束-->\\r\\n\\r\\n                <!--搜尋 開始-->\\r\\n                <div class=\"search\">\\r\\n                    <form action=\"https://www.ettoday.net/news_search/doSearch.php\" method=\"get\" name=\"dosearch\" >\\r\\n                        <input class=\"keyword\" type=\"text\" name=\"keywords\" value=\"\" placeholder=\"請輸入關鍵字\" x-webkit-speech/>\\r\\n                        <button class=\"go\" onclick=\"document.forms[\\'dosearch\\'].submit();\">搜尋</button>\\r\\n                    </form>\\r\\n                </div>\\r\\n                <!--搜尋 結束-->\\r\\n            </div>\\r\\n            <!--topbar 結束-->\\r\\n        </div>\\r\\n        <!--topbar_box 結束-->\\r\\n\\r\\n        <!--header_box 開始-->\\r\\n        <div class=\"header_box\">\\r\\n            <!--header 開始-->\\r\\n            <div class=\"header\">\\r\\n\\r\\n                <!--logo_ettoday 開始-->\\r\\n                <div class=\"logo_ettoday\">\\r\\n                    <script src=\"//cdn2.ettoday.net/style/ettoday2017/js/logo.js\"></script>\\r\\n<span>美洲</span>                </div>\\r\\n                <!--logo_ettoday 結束-->\\r\\n\\r\\n                <!--廣告 版頭小橫幅-左 180x50(原為250x50) 開始-->\\r\\n                <div class=\"ad250x50\">\\r\\n                    <script language=\"JavaScript\" type=\"text/javascript\">\\r\\n                        var ts = Math.random();\\r\\n                        document.write(\\'<scr\\' + \\'ipt language=\"JavaScript\" type=\"text/javascript\" src=\"//ad1.ettoday.net/ads.php?bid=all_header_250x50&rr=\\'+ ts +\\'\"></scr\\' + \\'ipt>\\');\\r\\n                    </script>\\r\\n                </div>\\r\\n                <!--廣告 版頭小橫幅-左 180x50(原為250x50) 結束-->\\r\\n\\r\\n                <!--廣告 版頭小橫幅-中 120x50 開始-->\\r\\n                <div class=\"ad120x50-1\">\\r\\n                    <script language=\"JavaScript\" type=\"text/javascript\">\\r\\n                        var ts = Math.random();\\r\\n                        document.write(\\'<scr\\' + \\'ipt language=\"JavaScript\" type=\"text/javascript\" src=\"//ad1.ettoday.net/ads.php?bid=panther_120x50_1&rr=\\'+ ts +\\'\"></scr\\' + \\'ipt>\\');\\r\\n                    </script>\\r\\n                </div>\\r\\n                <!--廣告 版頭小橫幅-中 120x50 結束-->\\r\\n\\r\\n                \\r\\n<!--主選單 開始-->\\r\\n<div class=\"nav_1_v2\">\\r\\n    <ul class=\"clearfix\">\\r\\n        <li class=\"btn btn_1\"><a href=\"https://www.ettoday.net/news/news-list.htm\">最新</a></li>\\r\\n        <li class=\"btn btn_2\"><a href=\"https://www.ettoday.net/news/focus/%E7%84%A6%E9%BB%9E%E6%96%B0%E8%81%9E/\">焦點</a></li>\\r\\n        <li class=\"btn btn_3\"><a href=\"https://www.ettoday.net/news/hot-news.htm\">熱門</a></li>\\r\\n        <li class=\"btn btn_4\"><a href=\"https://boba.ettoday.net/\" target=\"_blank\">播吧</a></li>\\r\\n        <li class=\"btn btn_5\">\\r\\n            <a href=\"javascript:;\">專題</a>\\r\\n            <!--下拉 開始-->\\r\\n            <div class=\"sub style_1 clearfix\">\\r\\n                <!--box_1 開始-->\\r\\n                <div class=\"box_1\">\\r\\n                    <h3><a href=\"https://www.ettoday.net/feature/index\" target=\"_blank\">精彩專題</a></h3>\\r\\n                                                        <a href=\"https://www.ettoday.net/feature/山豬陳俊甫\" target=\"_blank\">山豬陳俊甫過世</a>\\n                                    <a href=\"https://www.ettoday.net/feature/yungching\" target=\"_blank\">安心買賣屋全攻略</a>\\n                                    <a href=\"https://www.ettoday.net/feature/cht_enterprise\" target=\"_blank\">中華電信企業解決方案 全方位跟..</a>\\n                                    <a href=\"https://www.ettoday.net/feature/黃子佼\" target=\"_blank\">黃子佼相關新聞</a>\\n                                    <a href=\"https://www.ettoday.net/feature/地震\" target=\"_blank\">地震新聞報導\\u3000</a>\\n\\r\\n                    <a class=\"more\" href=\"https://www.ettoday.net/feature/index\" target=\"_blank\">看更多專題</a>\\r\\n        </div>\\r\\n                <!--box_1 結束-->\\r\\n                <!--box_2 開始-->\\r\\n                <div class=\"box_2\">\\r\\n                    <h3>熱門活動</h3>\\r\\n\\t\\t    \\r\\n                </div>\\r\\n                <!--box_2 結束-->\\r\\n            </div>\\r\\n            <!--下拉 結束-->\\r\\n        </li>\\r\\n\\r\\n        <li class=\"btn\">\\r\\n            <a href=\"https://www.ettoday.net/news/focus/%E6%94%BF%E6%B2%BB/\"><span>政治</span></a>\\r\\n        </li>\\r\\n        <li class=\"btn\">\\r\\n            <a href=\"https://www.ettoday.net/news/focus/%E7%A4%BE%E6%9C%83/\"><span>社會</span></a>\\r\\n        </li>\\r\\n        <li class=\"btn\">\\r\\n            <a href=\"https://star.ettoday.net\" target=\"_blank\"><span>娛樂</span></a>\\r\\n            <!--下拉 開始-->\\r\\n            <div class=\"sub clearfix\">\\r\\n                <a href=\"https://star.ettoday.net/star-category/%E8%8F%AF%E5%A8%9B\" target=\"_blank\">華娛</a>\\r\\n                <a href=\"https://star.ettoday.net/star-category/%E9%9F%93%E6%98%9F%E7%88%86%E7%88%86\" target=\"_blank\">韓流</a>\\r\\n                <a href=\"https://star.ettoday.net/star-category/%E9%9B%BB%E8%A6%96\" target=\"_blank\">電視</a>\\r\\n                <a href=\"https://star.ettoday.net/star-category/%E9%9F%B3%E6%A8%82\" target=\"_blank\">音樂</a>\\r\\n                <a href=\"https://movies.ettoday.net/\" target=\"_blank\">電影</a>\\r\\n            </div>\\r\\n            <!--下拉 結束-->\\r\\n        </li>\\r\\n        <li class=\"btn\">\\r\\n        <a href=\"https://travel.ettoday.net/\" target=\"_blank\">旅遊</a>\\r\\n        </li>\\r\\n        <li class=\"btn\">\\r\\n            <a href=\"https://www.ettoday.net/news/focus/%E7%94%9F%E6%B4%BB/\"><span>生活</span></a>\\r\\n            <!--下拉 開始-->\\r\\n            <div class=\"sub clearfix\">\\r\\n                <a href=\"https://www.ettoday.net/news/focus/%E6%B0%91%E7%94%9F%E6%B6%88%E8%B2%BB/\">消費</a>\\r\\n                <a href=\"https://discovery.ettoday.net/\" target=\"_blank\">探索</a>\\r\\n                <a href=\"https://www.ettoday.net/news/focus/3C%E5%AE%B6%E9%9B%BB/\">3C</a>\\r\\n                <a href=\"https://www.ettoday.net/news/focus/3C%E5%AE%B6%E9%9B%BB/%E5%AE%B6%E9%9B%BB/\">家電</a>\\r\\n                <a href=\"https://www.ettoday.net/news/focus/%E7%94%9F%E6%B4%BB/%E6%B0%A3%E8%B1%A1/\">氣象</a>\\r\\n            </div>\\r\\n            <!--下拉 結束-->\\r\\n        </li>\\r\\n        <li class=\"btn\">\\r\\n            <a href=\"https://www.ettoday.net/news/focus/%E5%9C%8B%E9%9A%9B/\"><span>國際</span></a>\\r\\n            <!--下拉 開始-->\\r\\n            <div class=\"sub clearfix\">\\r\\n                <a href=\"https://www.ettoday.net/news/focus/%E6%96%B0%E8%81%9E%E9%9B%B2APP/%E7%BE%8E%E6%B4%B2%E8%A6%81%E8%81%9E/\">美洲要聞</a>\\r\\n                <a href=\"https://www.ettoday.net/news/focus/%E6%96%B0%E8%81%9E%E9%9B%B2APP/%E6%9D%B1%E5%8D%97%E4%BA%9E%E8%A6%81%E8%81%9E/\">東南亞要聞</a>\\r\\n                <a href=\"https://www.ettoday.net/news/focus/%E6%96%B0%E8%81%9E%E9%9B%B2APP/%E6%97%A5%E9%9F%93%E8%A6%81%E8%81%9E/\">日韓要聞</a>\\r\\n            </div>\\r\\n            <!--下拉 結束-->\\r\\n        </li>\\r\\n        <li class=\"btn\">\\r\\n            <a href=\"https://www.ettoday.net/news/focus/%E5%A4%A7%E9%99%B8/\"><span>大陸</span></a>\\r\\n            <!--下拉 開始-->\\r\\n            <div class=\"sub clearfix\">\\r\\n                <a href=\"https://www.ettoday.net/news/focus/%E8%BB%8D%E6%AD%A6/\">軍武</a>\\r\\n                <a href=\"https://www.ettoday.net/news/focus/%E5%A4%A7%E9%99%B8/%E8%8F%AF%E8%81%9E%E5%BF%AB%E9%81%9E/\">華聞</a>\\r\\n                <a href=\"https://www.ettoday.net/news/focus/%E5%A4%A7%E9%99%B8/%E7%89%B9%E6%B4%BE%E7%8F%BE%E5%A0%B4/\">特派現場</a>\\r\\n                <a href=\"https://boba.ettoday.net/category/275\" target=\"_blank\">雲視頻</a>\\r\\n            </div>\\r\\n            <!--下拉 結束-->\\r\\n        </li>\\r\\n        <li class=\"btn\">\\r\\n            <a href=\"https://finance.ettoday.net/\"><span>財經</span></a>\\r\\n            <!--下拉 開始-->\\r\\n            <div class=\"sub clearfix\">\\r\\n                <a href=\"https://finance.ettoday.net/focus/775\" target=\"_blank\">投資理財</a>\\r\\n                <a href=\"https://finance.ettoday.net/focus/104\" target=\"_blank\">財經最新</a>\\r\\n                <a href=\"https://finance.ettoday.net/focus/106\" target=\"_blank\">頂尖企業</a>\\r\\n                <a href=\"https://finance.ettoday.net/focus/131\" target=\"_blank\">金融保險</a>\\r\\n                <a href=\"https://finance.ettoday.net/focus/175\" target=\"_blank\">股匯行情</a>\\r\\n                <a href=\"https://www.ettoday.net/news/focus/%E7%9B%B4%E9%8A%B7/\">直銷</a>\\r\\n            </div>\\r\\n            <!--下拉 結束-->\\r\\n        </li>\\r\\n        <li class=\"btn\">\\r\\n            <a href=\"https://forum.ettoday.net/\"><span>雲論</span></a>\\r\\n        </li>\\r\\n        <li class=\"btn\">\\r\\n            <a href=\"https://health.ettoday.net/\" target=\"_blank\"><span>健康</span></a>\\r\\n            <!--下拉 開始-->\\r\\n            <div class=\"sub clearfix\">\\r\\n                <a href=\"https://health.ettoday.net/category/%E9%86%AB%E8%97%A5%E6%96%B0%E8%81%9E\" target=\"_blank\">醫藥新聞</a>\\r\\n                <a href=\"https://health.ettoday.net/category/%E5%85%A9%E6%80%A7\" target=\"_blank\">兩性</a>\\r\\n                <a href=\"https://health.ettoday.net/category/%E9%A3%B2%E9%A3%9F\" target=\"_blank\">飲食</a>\\r\\n                <a href=\"https://health.ettoday.net/category/%E7%99%BE%E7%A7%91\" target=\"_blank\">健康百科</a>\\r\\n            </div>\\r\\n            <!--下拉 結束-->\\r\\n        </li>\\r\\n        <li class=\"btn\">\\r\\n            <a href=\"https://www.ettoday.net/dalemon/\" target=\"_blank\"><span>檸檬</span></a>\\r\\n        </li>\\r\\n        <li class=\"btn\">\\r\\n            <a href=\"https://sports.ettoday.net/\" target=\"_blank\"><span>體育</span></a>\\r\\n            <!--下拉 開始-->\\r\\n            <div class=\"sub clearfix\">\\r\\n                <a href=\"https://boba.ettoday.net/category/255\" target=\"_blank\">中職直播</a>\\r\\n                <a href=\"https://sports.ettoday.net/news-list/%E6%A3%92%E7%90%83/%E4%B8%AD%E8%81%B7\" target=\"_blank\">中職</a>\\r\\n                <a href=\"https://sports.ettoday.net/sport-category/%E6%A3%92%E7%90%83\" target=\"_blank\">棒球</a>\\r\\n                <a href=\"https://sports.ettoday.net/news-list/%E6%A3%92%E7%90%83/MLB\" target=\"_blank\">MLB</a>\\r\\n                <a href=\"https://sports.ettoday.net/sport-category/%E7%B1%83%E7%90%83\" target=\"_blank\">籃球</a>\\r\\n                <a href=\"https://sports.ettoday.net/news-list/%E7%AB%B6%E6%8A%80/%E6%8A%80%E6%93%8A%E3%80%81%E7%90%83%E9%A1%9E\" target=\"_blank\">綜合</a>\\r\\n                <a href=\"https://sports.ettoday.net/sport-category/%E8%B6%B3%E7%90%83\" target=\"_blank\">足球</a>\\r\\n            </div>\\r\\n            <!--下拉 結束-->\\r\\n        </li>\\r\\n        <li class=\"btn\">\\r\\n            <a href=\"https://fashion.ettoday.net/\" target=\"_blank\"><span>時尚</span></a>\\r\\n            <!--下拉 開始-->\\r\\n            <div class=\"sub clearfix\">\\r\\n                <a href=\"https://fashion.ettoday.net/focus/%E5%90%8D%E4%BA%BA\" target=\"_blank\">名人</a>\\r\\n                <a href=\"https://fashion.ettoday.net/focus/%E6%99%82%E5%B0%9A\" target=\"_blank\">時尚</a>\\r\\n                <a href=\"https://fashion.ettoday.net/focus/%E5%A5%A2%E9%80%B8\" target=\"_blank\">奢逸</a>\\r\\n                <a href=\"https://fashion.ettoday.net/focus/%E6%BD%AE%E6%B5%81\" target=\"_blank\">潮流</a>\\r\\n                <a href=\"https://fashion.ettoday.net/focus/%E7%BE%8E%E9%BA%97\" target=\"_blank\">美麗</a>\\r\\n                <a href=\"https://fashion.ettoday.net/focus/%E7%94%9F%E6%B4%BB\" target=\"_blank\">生活</a>\\r\\n            </div>\\r\\n            <!--下拉 結束-->\\r\\n        </li>\\r\\n        <li class=\"btn\">\\r\\n            <a href=\"https://house.ettoday.net/\" target=\"_blank\"><span>房產</span></a>\\r\\n        </li>\\r\\n        <li class=\"btn\">\\r\\n            <a href=\"https://speed.ettoday.net/\" target=\"_blank\"><span>車雲</span></a>\\r\\n        </li>\\r\\n        <li class=\"btn\">\\r\\n            <a href=\"https://pets.ettoday.net/\" target=\"_blank\"><span>寵物</span></a>\\r\\n            <!--下拉 開始-->\\r\\n            <div class=\"sub clearfix\">\\r\\n                <a href=\"https://pets.ettoday.net/focus/%E5%AF%B5%E7%89%A9%E5%A5%BD%E8%90%8C\" target=\"_blank\">寵物好萌</a>\\r\\n                <a href=\"https://pets.ettoday.net/focus/%E5%AF%B5%E7%89%A9%E7%99%BE%E7%A7%91\" target=\"_blank\">寵物百科</a>\\r\\n                <a href=\"https://pets.ettoday.net/focus/%E5%8B%95%E7%89%A9%E7%86%B1%E6%90%9C\" target=\"_blank\">動物熱搜</a>\\r\\n            </div>\\r\\n            <!--下拉 結束-->\\r\\n        </li>\\r\\n\\t\\t<li class=\"btn\">\\r\\n            <a href=\"https://www.ettoday.net/events/game/\" target=\"_blank\"><span style=\"color:#ffef66;\">小遊戲</span></a>\\r\\n        </li>\\r\\n            </ul>\\r\\n</div>\\r\\n<!--主選單 結束-->\\r\\n\\r\\n            <!--次選單 開始-->\\r\\n            <div class=\"nav_2\">\\r\\n                <ul>\\r\\n                    <li><a href=\"https://movies.ettoday.net/\" target=\"_blank\">看電影</a></li>\\r\\n                    <li><a href=\"https://www.ettoday.net/survey/\" target=\"_blank\">民調雲</a></li>\\r\\n                    <li><a href=\"https://www.ettoday.net/news/focus/%E6%B3%95%E5%BE%8B/\">法律雲</a></li>\\r\\n                    <li><a href=\"https://events.ettoday.net/charity/index.php\" target=\"_blank\">愛心雲</a></li>\\r\\n                    <li><a href=\"https://events.ettoday.net/grace/\" target=\"_blank\">恩典雲</a></li>\\r\\n                    <li><a href=\"https://www.ettoday.net/news/focus/%E4%BF%9D%E9%9A%AA/\">保險雲</a></li>\\r\\n                    <li><a href=\"https://game.ettoday.net\" target=\"_blank\">遊戲雲</a></li>\\r\\n                </ul>\\r\\n            </div>\\r\\n            <!--次選單 結束-->\\r\\n\\r\\n            </div>\\r\\n            <!--header 結束-->\\r\\n        </div>\\r\\n        <!--header_box 結束-->\\r\\n\\r\\n        <!--置入新聞版型_自由欄位1 開始-->\\r\\n                <!--置入新聞版型_自由欄位1 結束-->\\r\\n\\r\\n                <!-- 廣告 黃金文字 ad_txt_3 開始-->\\r\\n\\t\\t<div id=\"ticker_3\" class=\"ad_txt_3 clearfix\">\\r\\n\\t\\t\\t<ul class=\"clearfix\">\\r\\n\\r\\n\\t\\t\\t\\t<!--黃金文字all_gold_text1 開始-->\\r\\n\\t\\t\\t\\t<li id=\"t1\">\\r\\n\\t\\t\\t\\t\\t<script language=\"JavaScript\" type=\"text/javascript\">\\r\\n\\t\\t\\t\\t\\t\\tvar ts = Math.random();\\r\\n\\t\\t\\t\\t\\t\\tdocument.write(\\'<scr\\' + \\'ipt language=\"JavaScript\" type=\"text/javascript\" src=\"//ad1.ettoday.net/ads.php?bid=all_gold_text1&rr=\\'+ ts +\\'\"></scr\\' + \\'ipt>\\');\\r\\n\\t\\t\\t\\t\\t</script>\\r\\n\\t\\t\\t\\t</li>\\r\\n\\t\\t\\t\\t<!--黃金文字all_gold_text1 結束-->\\r\\n\\t\\t\\t\\t<!--黃金文字all_gold_text2 開始-->\\r\\n\\t\\t\\t\\t<li id=\"t2\">\\r\\n\\t\\t\\t\\t\\t<script language=\"JavaScript\" type=\"text/javascript\">\\r\\n\\t\\t\\t\\t\\t\\tvar ts = Math.random();\\r\\n\\t\\t\\t\\t\\t\\tdocument.write(\\'<scr\\' + \\'ipt language=\"JavaScript\" type=\"text/javascript\" src=\"//ad1.ettoday.net/ads.php?bid=all_gold_text2&rr=\\'+ ts +\\'\"></scr\\' + \\'ipt>\\');\\r\\n\\t\\t\\t\\t\\t</script>\\r\\n\\t\\t\\t\\t</li>\\r\\n\\t\\t\\t\\t<!--黃金文字all_gold_text2 結束-->\\r\\n\\t\\t\\t\\t<!--黃金文字all_gold_text3 開始-->\\r\\n\\t\\t\\t\\t<li id=\"t3\">\\r\\n\\t\\t\\t\\t\\t<script language=\"JavaScript\" type=\"text/javascript\">\\r\\n\\t\\t\\t\\t\\t\\tvar ts = Math.random();\\r\\n\\t\\t\\t\\t\\t\\tdocument.write(\\'<scr\\' + \\'ipt language=\"JavaScript\" type=\"text/javascript\" src=\"//ad1.ettoday.net/ads.php?bid=all_gold_text3&rr=\\'+ ts +\\'\"></scr\\' + \\'ipt>\\');\\r\\n\\t\\t\\t\\t\\t</script>\\r\\n\\t\\t\\t\\t</li>\\r\\n\\t\\t\\t\\t<!--黃金文字all_gold_text3 結束-->\\r\\n\\t\\t\\t</ul>\\r\\n\\t\\t</div>\\r\\n\\t\\t<!--廣告 黃金文字 ad_txt_3 結束-->\\r\\n\\r\\n                \\r\\n                <!--廣告 超級大橫幅 ad_970 開始-->\\r\\n\\t\\t<div class=\"ad_970\">\\r\\n\\t\\t\\t<script language=\"JavaScript\" type=\"text/javascript\">\\r\\n\\t\\t\\t\\tvar ts = Math.random();\\r\\n\\t\\t\\t\\tdocument.write(\\'<scr\\' + \\'ipt language=\"JavaScript\" type=\"text/javascript\" src=\"//ad1.ettoday.net/ads.php?bid=newslist_970x90&rr=\\'+ ts +\\'\"></scr\\' + \\'ipt>\\');\\r\\n\\t\\t\\t</script>\\r\\n\\t\\t</div>\\r\\n\\t\\t<!--廣告 超級大橫幅 ad_970 結束-->\\r\\n\\r\\n\\r\\n                \\r\\n                <!-- BEGIN 525387 EtToday - TW - Adblocking - 728x90 START -->\\r\\n                <script type=\"text/javascript\" async src=\"//static.criteo.net/js/ld/publishertag.js\"></script>\\r\\n                <div id=\"abp3\" style=\"width:728px;height:90px;margin:10px auto 50px auto\"></div>\\r\\n                <script type=\"text/javascript\">\\r\\n                    var Criteo = Criteo || {};\\r\\n                        Criteo.events = Criteo.events || [];\\r\\n                        Criteo.events.push(function() {\\r\\n                        Criteo.DisplayAcceptableAdIfAdblocked({\\r\\n                        \"zoneid\": 525387,\\r\\n                        \"containerid\": \"abp3\",\\r\\n                        \"overrideZoneFloor\": false\\r\\n                        });\\r\\n                    });\\r\\n                </script>\\r\\n                <!-- BEGIN 525387 EtToday - TW - Adblocking - 728x90 END -->\\r\\n\\r\\n                                <!--廣告 onead 果實 In-Cover & In-Page 開始-->\\r\\n\\t\\t<div id = \\'oneadICIPTag\\'></div>\\r\\n\\t\\t<script type=\"text/javascript\" src=\"//cdn2.ettoday.net/ad/onead/onead_ic_ip.js\"></script>\\r\\n\\t\\t<!--廣告 onead 果實 In-Cover & In-Page 結束-->\\r\\n                \\r\\n             \\r\\n                \\r\\n        <!--container_box 開始-->\\r\\n        <div class=\"container_box\">\\r\\n            <!--container 開始-->\\r\\n            <div class=\"container\">\\r\\n                <!--橫列 r1 開始-->\\r\\n                <div class=\"r1 clearfix\"> \\r\\n                 <!--直欄 c1 開始-->\\r\\n                  <div class=\"c1\">\\r\\n\\t\\t\\t\\t\\t\\t\\r\\n\\t\\t\\t\\t\\t  <!--block_1 區塊 開始-->\\r\\n\\t\\t\\t\\t\\t  <div class=\"block block_1 infinite_scroll news-list\">\\r\\n\\t\\t\\t\\t\\t\\t  <!--part_breadcrumb_1 麵包屑 開始-->\\r\\n\\t\\t\\t\\t\\t\\t  <div class=\"part_breadcrumb_1\">\\r\\n\\t\\t\\t\\t\\t\\t\\t  <a href=\"/\">ETtoday</a>   <span>&gt;</span>  <em>新聞總覽</em>\\r\\n\\t\\t\\t\\t\\t\\t  </div>\\r\\n\\t\\t\\t\\t\\t\\t  <!--part_breadcrumb_1 麵包屑 結束-->\\r\\n\\t\\t\\t\\t\\t\\t  <!--block_title 開始-->\\r\\n\\t\\t\\t\\t\\t\\t  <div class=\"block_title\">\\r\\n\\t\\t\\t\\t\\t\\t    <h3><em class=\"icon\"></em>新聞總覽</h3>\\r\\n\\t\\t\\t\\t\\t\\t  </div>\\r\\n\\t\\t\\t\\t\\t\\t  <!--block_title 結束-->\\r\\n\\t\\t\\t\\t\\t\\t  <!--block_content 開始-->\\r\\n\\t\\t\\t\\t\\t\\t  <div class=\"block_content\">\\r\\n\\t\\t\\t\\t\\t\\t\\t\\t\\r\\n\\t\\t\\t\\t\\t\\t\\t  <!--.part_calendar_1 表單 日期 開始-->\\r\\n<script language=\"JavaScript\">\\r\\n    function gotoformCalendar() {\\r\\n        var theLnkStr = \"/news/news-list-\"+ $(\"#selY\").val() +\"-\"+ $(\"#selM\").val() +\"-\"+ $(\"#selD\").val() +\"-\"+ $(\"#nkind\").val() +\".htm\";\\r\\n        location.replace(theLnkStr);\\r\\n    }\\r\\n</script>\\r\\n\\t\\t\\t\\t\\t\\t\\t  <div class=\"part_calendar_1\">\\r\\n\\t\\t\\t\\t\\t\\t\\t\\t  <form name=\"formCalendar\" id=\"formCalendar\">\\r\\n                                                                  <span>日期</span> <label><select name=\"selY\" id=\"selY\"> <option value=\"2011\" >2011</option><option value=\"2012\" >2012</option><option value=\"2013\" >2013</option><option value=\"2014\" >2014</option><option value=\"2015\" >2015</option><option value=\"2016\" >2016</option><option value=\"2017\" >2017</option><option value=\"2018\" >2018</option><option value=\"2019\" >2019</option><option value=\"2020\" >2020</option><option value=\"2021\" >2021</option><option value=\"2022\" >2022</option><option value=\"2023\" >2023</option><option value=\"2024\" selected>2024</option></select></label> <span>年</span> <label><select name=\"selM\" id=\"selM\"><option value=\"1\" >1</option><option value=\"2\" >2</option><option value=\"3\" >3</option><option value=\"4\" selected>4</option><option value=\"5\" >5</option><option value=\"6\" >6</option><option value=\"7\" >7</option><option value=\"8\" >8</option><option value=\"9\" >9</option><option value=\"10\" >10</option><option value=\"11\" >11</option><option value=\"12\" >12</option></select></label> <span>月</span> <label><select name=\"selD\" id=\"selD\"><option value=\"1\" >1</option><option value=\"2\" >2</option><option value=\"3\" >3</option><option value=\"4\" >4</option><option value=\"5\" >5</option><option value=\"6\" >6</option><option value=\"7\" >7</option><option value=\"8\" >8</option><option value=\"9\" >9</option><option value=\"10\" >10</option><option value=\"11\" >11</option><option value=\"12\" >12</option><option value=\"13\" >13</option><option value=\"14\" >14</option><option value=\"15\" >15</option><option value=\"16\" >16</option><option value=\"17\" selected>17</option><option value=\"18\" >18</option><option value=\"19\" >19</option><option value=\"20\" >20</option><option value=\"21\" >21</option><option value=\"22\" >22</option><option value=\"23\" >23</option><option value=\"24\" >24</option><option value=\"25\" >25</option><option value=\"26\" >26</option><option value=\"27\" >27</option><option value=\"28\" >28</option><option value=\"29\" >29</option><option value=\"30\" >30</option><option value=\"31\" >31</option></select></label> <span>日</span> <input type=\"button\" id=\"button\" value=\"查詢\" onclick=\"javascript:gotoformCalendar();\" />                                                                  <input type=\"hidden\" name=\"nkind\" id=\"nkind\" value=\"0\">\\r\\n\\t\\t\\t\\t\\t\\t\\t\\t  </form>\\r\\n\\t\\t\\t\\t\\t\\t\\t  </div>\\r\\n\\t\\t\\t\\t\\t\\t\\t  <!--.part_calendar_1 表單 日期 結束-->\\r\\n\\t\\t\\t\\t\\t\\t\\t\\r\\n\\t\\t\\t\\t\\t\\t\\t\\r\\n\\t\\t\\t\\t\\t\\t\\t  <!--part_menu_2 開始-->\\r\\n\\t\\t\\t\\t\\t\\t\\t  <div class=\"part_menu_2\">\\r\\n\\t\\t\\t\\t\\t\\t\\t\\t  <ul class=\"clearfix\">\\r\\n\\t\\t\\t\\t\\t\\t\\t\\t      <li><a class=\"current\" href=\"/news/news-list-2024-04-17-0.htm\">總覽</a></li>\\r\\n\\t\\t\\t\\t\\t\\t\\t\\t      <li>|</li><li><a  href=\"/news/news-list-2024-04-17-1.htm\">政治</a></li>\\r\\n\\t\\t\\t\\t\\t\\t\\t\\t      <li>|</li><li><a  href=\"/news/news-list-2024-04-17-6.htm\">社會</a></li>\\r\\n\\t\\t\\t\\t\\t\\t\\t\\t      <li>|</li><li><a  href=\"/news/news-list-2024-04-17-9.htm\">影劇</a></li>\\r\\n\\t\\t\\t\\t\\t\\t\\t\\t      <li>|</li><li><a  href=\"/news/news-list-2024-04-17-5.htm\">生活</a></li>\\r\\n\\t\\t\\t\\t\\t\\t\\t\\t      <li>|</li><li><a  href=\"/news/news-list-2024-04-17-2.htm\">國際</a></li>\\r\\n\\t\\t\\t\\t\\t\\t\\t\\t      <li>|</li><li><a  href=\"/news/news-list-2024-04-17-33.htm\">房產雲</a></li>\\r\\n\\t\\t\\t\\t\\t\\t\\t\\t      <li>|</li><li><a  href=\"/news/news-list-2024-04-17-10.htm\">體育</a></li>\\r\\n\\t\\t\\t\\t\\t\\t\\t\\t      <li>|</li><li><a  href=\"/news/news-list-2024-04-17-17.htm\">財經</a></li>\\r\\n\\t\\t\\t\\t\\t\\t\\t\\t      <li>|</li><li><a  href=\"/news/news-list-2024-04-17-3.htm\">大陸</a></li>\\r\\n\\t\\t\\t\\t\\t\\t\\t\\t      <li>|</li><li><a  href=\"/news/news-list-2024-04-17-8.htm\">寵物動物</a></li>\\r\\n\\t\\t\\t\\t\\t\\t\\t\\t      <li>|</li><li><a  href=\"/news/news-list-2024-04-17-11.htm\">旅遊</a></li>\\r\\n\\t\\t\\t\\t\\t\\t\\t\\t      <li>|</li><li><a  href=\"/news/news-list-2024-04-17-21.htm\">健康</a></li>\\r\\n\\t\\t\\t\\t\\t\\t\\t\\t      <li>|</li><li><a  href=\"/news/news-list-2024-04-17-12.htm\">消費</a></li>\\r\\n\\t\\t\\t\\t\\t\\t\\t\\t      <li>|</li><li><a  href=\"/news/news-list-2024-04-17-30.htm\">時尚</a></li>\\r\\n\\t\\t\\t\\t\\t\\t\\t\\t      <li>|</li><li><a  href=\"/news/news-list-2024-04-17-34.htm\">ET車雲</a></li>\\r\\n\\t\\t\\t\\t\\t\\t\\t\\t      <li>|</li><li><a  href=\"/news/news-list-2024-04-17-4.htm\">新奇</a></li>\\r\\n\\t\\t\\t\\t\\t\\t\\t\\t      <li>|</li><li><a  href=\"/news/news-list-2024-04-17-26.htm\">網搜</a></li>\\r\\n\\t\\t\\t\\t\\t\\t\\t\\t      <li>|</li><li><a  href=\"/news/news-list-2024-04-17-35.htm\">軍武</a></li>\\r\\n\\t\\t\\t\\t\\t\\t\\t\\t      <li>|</li><li><a  href=\"/news/news-list-2024-04-17-7.htm\">地方</a></li>\\r\\n\\t\\t\\t\\t\\t\\t\\t\\t      <li>|</li><li><a  href=\"/news/news-list-2024-04-17-13.htm\">論壇</a></li>\\r\\n\\t\\t\\t\\t\\t\\t\\t\\t      <li>|</li><li><a  href=\"/news/news-list-2024-04-17-20.htm\">3C家電</a></li>\\r\\n\\t\\t\\t\\t\\t\\t\\t\\t      <li>|</li><li><a  href=\"/news/news-list-2024-04-17-24.htm\">遊戲</a></li>\\r\\n\\t\\t\\t\\t\\t\\t\\t\\t      <li>|</li><li><a  href=\"/news/news-list-2024-04-17-38.htm\">法律</a></li>\\r\\n\\t\\t\\t\\t\\t\\t\\t\\t      <li>|</li><li><a  href=\"/news/news-list-2024-04-17-23.htm\">公益</a></li>\\r\\n\\t\\t\\t\\t\\t\\t\\t\\t      <li>|</li><li><a  href=\"/news/news-list-2024-04-17-45.htm\">ESG</a></li>\\r\\n\\t\\t\\t\\t\\t\\t\\t\\t      <li>|</li><li><a href=\"https://www.ettoday.net/feature/et_yummy\" target=\"_blank\">美食</a></li>\\r\\n\\t\\t\\t\\t\\t\\t\\t\\t  </ul>\\r\\n\\t\\t\\t\\t\\t\\t\\t  </div>\\r\\n\\t\\t\\t\\t\\t\\t\\t  <!--part_menu_2 結束-->\\r\\n\\t\\t\\t\\t\\t\\t\\t\\t\\r\\n\\t\\t\\t\\t\\t\\t\\t  <!--part_list_2 文字列表 開始-->\\r\\n\\t\\t\\t\\t\\t\\t\\t  <div class=\"part_list_2\">\\r\\n                                                              <h3><span class=\"date\">2024/04/17 18:46</span><em class=\"tag c_society\">社會</em><a target=\"_blank\" href=\"https://www.ettoday.net/news/20240417/2721593.htm\">前酒店少爺2度闖東家偷2.5萬小費\\u30003男當街對他上銬也有事</a></h3>\\r\\n                                                              <h3><span class=\"date\">2024/04/17 18:45</span><em class=\"tag c_star\">影劇</em><a target=\"_blank\" href=\"https://star.ettoday.net/news/2721512\">被問是什麼星座？嚴立婷狂回「雞」\\u3000對話曝光笑翻網友</a></h3>\\r\\n                                                              <h3><span class=\"date\">2024/04/17 18:41</span><em class=\"tag c_star\">影劇</em><a target=\"_blank\" href=\"https://star.ettoday.net/news/2721594\">歐漢聲虧前妻「桃花旺」感情近況曝！\\u3000被問黃子佼嘆氣：沒有私交</a></h3>\\r\\n                                                              <h3><span class=\"date\">2024/04/17 18:38</span><em class=\"tag c_society\">社會</em><a target=\"_blank\" href=\"https://www.ettoday.net/news/20240417/2721592.htm\">中山高264K「司機恍神」小貨車撞工程緩衝車\\u300090度側翻外車道</a></h3>\\r\\n                                                              <h3><span class=\"date\">2024/04/17 18:34</span><em class=\"tag c_lifestyle\">生活</em><a target=\"_blank\" href=\"https://www.ettoday.net/news/20240417/2721579.htm\">涵碧樓才洗得到！香氛品牌聯名咖啡店\\u3000推母親節限定禮盒做公益</a></h3>\\r\\n                                                              <h3><span class=\"date\">2024/04/17 18:33</span><em class=\"tag c_society\">社會</em><a target=\"_blank\" href=\"https://www.ettoday.net/news/20240417/2721591.htm\">台南女警遭警大退學自戕\\u3000麻豆分局官田所正副所長調職處分</a></h3>\\r\\n                                                              <h3><span class=\"date\">2024/04/17 18:32</span><em class=\"tag c_society\">社會</em><a target=\"_blank\" href=\"https://www.ettoday.net/news/20240417/2721589.htm\">陸戰隊66旅修繕包商雇用逃逸移工\\u3000專勤隊持拘票衝營區抓6人</a></h3>\\r\\n                                                              <h3><span class=\"date\">2024/04/17 18:28</span><em class=\"tag c_finance\">財經</em><a target=\"_blank\" href=\"https://finance.ettoday.net/news/2721590\">巴拿馬運河5月中開始增加通行量至24艘次\\u30006月增至32艘次</a></h3>\\r\\n                                                              <h3><span class=\"date\">2024/04/17 18:27</span><em class=\"tag c_star\">影劇</em><a target=\"_blank\" href=\"https://star.ettoday.net/news/2721325\">《哈利波特》露娜32歲近照曝光\\u3000黑髮變「石內卜風格」 認不出來</a></h3>\\r\\n                                                              <h3><span class=\"date\">2024/04/17 18:25</span><em class=\"tag c_lifestyle\">生活</em><a target=\"_blank\" href=\"https://www.ettoday.net/news/20240417/2721586.htm\">小感冒要命！AED電擊3次搶贏閻王\\u3000高雄男「心肌炎」倒地險猝死</a></h3>\\r\\n                                                              <h3><span class=\"date\">2024/04/17 18:25</span><em class=\"tag c_global\">國際</em><a target=\"_blank\" href=\"https://www.ettoday.net/news/20240417/2721563.htm\">潑水節狂歡成悲劇！\\u3000泰國6天「243人喪命」近2千人受傷</a></h3>\\r\\n                                                              <h3><span class=\"date\">2024/04/17 18:24</span><em class=\"tag c_news\">政治</em><a target=\"_blank\" href=\"https://www.ettoday.net/news/20240417/2721498.htm\">王世堅轟租賃公司向官股銀行借「五千億」\\u3000轉手向民眾放高利貸</a></h3>\\r\\n                                                              <h3><span class=\"date\">2024/04/17 18:23</span><em class=\"tag c_star\">影劇</em><a target=\"_blank\" href=\"https://star.ettoday.net/news/2721488\">冠軍正妹顏值神似韓星SOMl！城市小姐連辦19屆超吸睛</a></h3>\\r\\n                                                              <h3><span class=\"date\">2024/04/17 18:20</span><em class=\"tag c_lifestyle\">生活</em><a target=\"_blank\" href=\"https://www.ettoday.net/news/20240417/2721587.htm\">桃園老字號「阿珍米干」宣布停業！在地人不捨：口袋名單少一家</a></h3>\\r\\n                                                              <h3><span class=\"date\">2024/04/17 18:19</span><em class=\"tag c_star\">影劇</em><a target=\"_blank\" href=\"https://star.ettoday.net/news/2721578\">馮德倫「曬舒淇舊照」被老婆嗆跪算盤！\\u3000現身親曝愛妻宣言：很漂亮啊</a></h3>\\r\\n                                                              <h3><span class=\"date\">2024/04/17 18:17</span><em class=\"tag c_star\">影劇</em><a target=\"_blank\" href=\"https://star.ettoday.net/news/2721576\">《浪姐5》太操！\\u3000謝金燕驚「體重剩44.7kg」：沒看過腿細成這樣</a></h3>\\r\\n                                                              <h3><span class=\"date\">2024/04/17 18:16</span><em class=\"tag c_society\">社會</em><a target=\"_blank\" href=\"https://www.ettoday.net/news/20240417/2721574.htm\">買船走私35億大麻「太空包」\\u30001381kg毒品全被抄...10人慘了</a></h3>\\r\\n                                                              <h3><span class=\"date\">2024/04/17 18:14</span><em class=\"tag c_sport\">體育</em><a target=\"_blank\" href=\"https://sports.ettoday.net/news/2721566\">張進德開始打T座\\u3000布蘭登周日重返一軍先發</a></h3>\\r\\n                                                              <h3><span class=\"date\">2024/04/17 18:14</span><em class=\"tag c_global\">國際</em><a target=\"_blank\" href=\"https://www.ettoday.net/news/20240417/2721547.htm\">1歲女嬰不喝奶遭掌摑「臉頰大片瘀青」\\u3000新加坡前幼師判關9個月</a></h3>\\r\\n                                                              <h3><span class=\"date\">2024/04/17 18:11</span><em class=\"tag c_global\">國際</em><a target=\"_blank\" href=\"https://www.ettoday.net/news/20240417/2721584.htm\">「M痘」出現變異株了！累計108例個案2死亡\\u3000恐爆發全球大流行</a></h3>\\r\\n                                                              <h3><span class=\"date\">2024/04/17 18:10</span><em class=\"tag c_news\">政治</em><a target=\"_blank\" href=\"https://www.ettoday.net/news/20240417/2721580.htm\">鄭文燦520後新職\\u3000傳賴清德新政府鎖定擔任海基會董事長</a></h3>\\r\\n                                                              <h3><span class=\"date\">2024/04/17 18:09</span><em class=\"tag c_lifestyle\">生活</em><a target=\"_blank\" href=\"https://www.ettoday.net/news/20240417/2721572.htm\">「限用塑膠袋場域」擬擴大\\u3000環境部：傳統市場、早餐店將納入</a></h3>\\r\\n                                                              <h3><span class=\"date\">2024/04/17 18:07</span><em class=\"tag c_society\">社會</em><a target=\"_blank\" href=\"https://www.ettoday.net/news/20240417/2721535.htm\">拋開壓力！士院給一日公假挺法官自主辦活動：彼此打氣</a></h3>\\r\\n                                                              <h3><span class=\"date\">2024/04/17 18:04</span><em class=\"tag c_society\">社會</em><a target=\"_blank\" href=\"https://www.ettoday.net/news/20240417/2721571.htm\">誰的「家」撞爛牌樓！拖板車載貨櫃屋\\u3000超標28cm硬闖社區釀禍</a></h3>\\r\\n                                                              <h3><span class=\"date\">2024/04/17 18:01</span><em class=\"tag c_china\">大陸</em><a target=\"_blank\" href=\"https://www.ettoday.net/news/20240417/2721558.htm\">陸發改委：認為出口商品多了就是產能過剩，這是站不住腳的</a></h3>\\r\\n                                                              <h3><span class=\"date\">2024/04/17 18:00</span><em class=\"tag c_lifestyle\">生活</em><a target=\"_blank\" href=\"https://www.ettoday.net/news/20240417/2718400.htm\">娶到賺到！「超強旺夫運」TOP3星座女\\u3000又美又溫柔</a></h3>\\r\\n                                                              <h3><span class=\"date\">2024/04/17 17:59</span><em class=\"tag c_consuming\">消費</em><a target=\"_blank\" href=\"https://www.ettoday.net/news/20240417/2721422.htm\">7-11限量首賣「紅玉18拿鐵」與「春烏龍拿鐵」\\u3000限時2杯168元</a></h3>\\r\\n                                                              <h3><span class=\"date\">2024/04/17 17:57</span><em class=\"tag c_lifestyle\">生活</em><a target=\"_blank\" href=\"https://www.ettoday.net/news/20240417/2721570.htm\">震後2周又有5.2餘震\\u3000氣象署：地體結構調整「規模4以上還會有」</a></h3>\\r\\n                                                              <h3><span class=\"date\">2024/04/17 17:57</span><em class=\"tag c_house\">房產雲</em><a target=\"_blank\" href=\"https://house.ettoday.net/news/2721555\">外地人、成大學生都能租\\u3000台南唯一自建社宅明年招租</a></h3>\\r\\n                                                              <h3><span class=\"date\">2024/04/17 17:57</span><em class=\"tag c_global\">國際</em><a target=\"_blank\" href=\"https://www.ettoday.net/news/20240417/2721513.htm\">開戰逾2年\\u3000BBC估俄羅斯「5萬士兵陣亡」！絞肉機戰術傷亡慘重</a></h3>\\r\\n                                                              <h3><span class=\"date\">2024/04/17 17:56</span><em class=\"tag c_china\">大陸</em><a target=\"_blank\" href=\"https://www.ettoday.net/news/20240417/2721561.htm\">香港國安法生效至今「291人被捕」\\u3000最小的年紀只有15歲</a></h3>\\r\\n                                                              <h3><span class=\"date\">2024/04/17 17:55</span><em class=\"tag c_lifestyle\">生活</em><a target=\"_blank\" href=\"https://www.ettoday.net/news/20240417/2721564.htm\">完美男友「性癖讓她好痛苦」\\u3000手機影片噁爆！全場轟：這是犯罪</a></h3>\\r\\n                                                              <h3><span class=\"date\">2024/04/17 17:52</span><em class=\"tag c_teck3c\">3C家電</em><a target=\"_blank\" href=\"https://www.ettoday.net/news/20240417/2721567.htm\">安卓用戶注意！三款聊天App默默盜用個資</a></h3>\\r\\n                                                              <h3><span class=\"date\">2024/04/17 17:51</span><em class=\"tag c_society\">社會</em><a target=\"_blank\" href=\"https://www.ettoday.net/news/20240417/2721560.htm\">快訊／核二廠出海口驚見男浮屍\\u3000「頭套黑塑膠袋」腳遭綑綁</a></h3>\\r\\n                                                              <h3><span class=\"date\">2024/04/17 17:51</span><em class=\"tag c_travel\">旅遊</em><a target=\"_blank\" href=\"https://travel.ettoday.net/article/2721548.htm\">前米其林星廚坐鎮！台中「元紀．台灣菜」4／20開幕\\u30002千元吃得到</a></h3>\\r\\n                                                              <h3><span class=\"date\">2024/04/17 17:51</span><em class=\"tag c_lifestyle\">生活</em><a target=\"_blank\" href=\"https://www.ettoday.net/news/20240417/2721525.htm\">台灣每十步就有什麼？台人默契「2答案」刷一排：多到數不清</a></h3>\\r\\n                                                              <h3><span class=\"date\">2024/04/17 17:49</span><em class=\"tag c_sport\">體育</em><a target=\"_blank\" href=\"https://sports.ettoday.net/news/2721545\">王威晨、江坤宇掛傷號\\u3000兄弟教頭：團隊失誤稍多</a></h3>\\r\\n                                                              <h3><span class=\"date\">2024/04/17 17:48</span><em class=\"tag c_fashion\">時尚</em><a target=\"_blank\" href=\"https://fashion.ettoday.net/news/2721501\">蔡凡熙示範遛狗穿搭合體Lulu逛NB快閃店\\u3000IU同款夏日潮T首登台</a></h3>\\r\\n                                                              <h3><span class=\"date\">2024/04/17 17:47</span><em class=\"tag c_global\">國際</em><a target=\"_blank\" href=\"https://www.ettoday.net/news/20240417/2721540.htm\">美股警訊？分析師預測「暴跌30%」遭拋售\\u3000這時間點又重挫</a></h3>\\r\\n                                                              <h3><span class=\"date\">2024/04/17 17:47</span><em class=\"tag c_star\">影劇</em><a target=\"_blank\" href=\"https://star.ettoday.net/news/2721203\">好評！吳東諺染一頭銀髮變男團\\u3000甜謝老婆白家綺神隊友</a></h3>\\r\\n                                                              <h3><span class=\"date\">2024/04/17 17:45</span><em class=\"tag c_house\">房產雲</em><a target=\"_blank\" href=\"https://house.ettoday.net/news/2721550\">假裝配合買房！家人秒拿他印章「買預售屋」\\u3000男傻了：被迫背房貸</a></h3>\\r\\n                                                              <h3><span class=\"date\">2024/04/17 17:45</span><em class=\"tag c_lifestyle\">生活</em><a target=\"_blank\" href=\"https://www.ettoday.net/news/20240417/2721536.htm\">22歲女隆乳命危！醫美診所3年8起爭議挨罰48萬\\u3000竟改名繼續執業</a></h3>\\r\\n                                                              <h3><span class=\"date\">2024/04/17 17:44</span><em class=\"tag c_society\">社會</em><a target=\"_blank\" href=\"https://www.ettoday.net/news/20240417/2721552.htm\">持磚塊砸壞路旁機車遭通緝\\u3000中壢大媽被拘提還是不說原因</a></h3>\\r\\n                                                              <h3><span class=\"date\">2024/04/17 17:44</span><em class=\"tag c_health\">健康</em><a target=\"_blank\" href=\"https://health.ettoday.net/news/2721508\">逾16萬件家暴通報！親密暴力占比最高\\u30003招自保</a></h3>\\r\\n                                                              <h3><span class=\"date\">2024/04/17 17:44</span><em class=\"tag c_pet\">寵物動物</em><a target=\"_blank\" href=\"https://pets.ettoday.net/news/2721043\">上樓驚見「圓形海豹貓」大喇喇躺地上\\u3000舉手手賣萌：快來餵食～</a></h3>\\r\\n                                                              <h3><span class=\"date\">2024/04/17 17:41</span><em class=\"tag c_lifestyle\">生活</em><a target=\"_blank\" href=\"https://www.ettoday.net/news/20240417/2721549.htm\">快訊／台中大華國中疑食物中毒\\u3000通報人數暴增至75師生</a></h3>\\r\\n                                                              <h3><span class=\"date\">2024/04/17 17:40</span><em class=\"tag c_society\">社會</em><a target=\"_blank\" href=\"https://www.ettoday.net/news/20240417/2721546.htm\">6億黑心水產吃下肚！進口冷凍蝦仁、干貝遭改效期\\u3000原產地變台灣</a></h3>\\r\\n                                                              <h3><span class=\"date\">2024/04/17 17:40</span><em class=\"tag c_china\">大陸</em><a target=\"_blank\" href=\"https://www.ettoday.net/news/20240417/2721532.htm\">紐時：德國難與中國切割\\u3000因經貿往來密切</a></h3>\\r\\n                                                              <h3><span class=\"date\">2024/04/17 17:40</span><em class=\"tag c_finance\">財經</em><a target=\"_blank\" href=\"https://finance.ettoday.net/news/2721454\">ASML首季新訂單不如預期盤前先殺5%\\u3000市場擔心復甦轉向</a></h3>\\r\\n                                                              <h3><span class=\"date\">2024/04/17 17:40</span><em class=\"tag c_news\">政治</em><a target=\"_blank\" href=\"https://www.ettoday.net/news/20240417/2721448.htm\">黃國昌轟實務見解混亂\\u3000揪2點嗆法制單位兒虐報告：不及格！</a></h3>\\r\\n                                                              <h3><span class=\"date\">2024/04/17 17:38</span><em class=\"tag c_china\">大陸</em><a target=\"_blank\" href=\"https://www.ettoday.net/news/20240417/2721455.htm\">睪丸藏腹部！27歲女婚檢發現自己竟是男兒身\\u3000醫：恐危及性命</a></h3>\\r\\n                                                              <h3><span class=\"date\">2024/04/17 17:34</span><em class=\"tag c_sport\">體育</em><a target=\"_blank\" href=\"https://sports.ettoday.net/news/2721551\">田徑雙帥衝刺巴黎奧運\\u3000彭名揚想討回亞運的不甘心</a></h3>\\r\\n                                                              <h3><span class=\"date\">2024/04/17 17:33</span><em class=\"tag c_consuming\">消費</em><a target=\"_blank\" href=\"https://www.ettoday.net/news/20240417/2716764.htm\">拯救家庭和諧？家人送禮指南\\u3000網友大讚「比他／她還懂我的點」</a></h3>\\r\\n                                                              <h3><span class=\"date\">2024/04/17 17:32</span><em class=\"tag c_fashion\">時尚</em><a target=\"_blank\" href=\"https://fashion.ettoday.net/news/2721496\">孫藝真來台行頭大解析！絕美粉色穿搭\\u3000高跟鞋是凱特王妃愛牌</a></h3>\\r\\n                                                              <h3><span class=\"date\">2024/04/17 17:30</span><em class=\"tag c_star\">影劇</em><a target=\"_blank\" href=\"https://star.ettoday.net/news/2721543\">梁詠琪攻蛋「花海舞台」太衝擊！\\u3000殯葬業網紅：後勁好強…</a></h3>\\r\\n                                                              <h3><span class=\"date\">2024/04/17 17:29</span><em class=\"tag c_society\">社會</em><a target=\"_blank\" href=\"https://www.ettoday.net/news/20240417/2721534.htm\">快訊／國4砂石車自撞護欄！衝下邊坡車頭全毀\\u3000駕駛昏迷送醫搶救</a></h3>\\r\\n                                                              <h3><span class=\"date\">2024/04/17 17:26</span><em class=\"tag c_lifestyle\">生活</em><a target=\"_blank\" href=\"https://www.ettoday.net/news/20240417/2721542.htm\">北部即將變天！鋒面「旺盛對流」夜襲\\u3000明天雨區擴全台</a></h3>\\r\\n                                                              <h3><span class=\"date\">2024/04/17 17:23</span><em class=\"tag c_sport\">體育</em><a target=\"_blank\" href=\"https://sports.ettoday.net/news/2721533\">克迪左肘發炎好轉\\u3000王建民透露復健進度</a></h3>\\r\\n                                                              <h3><span class=\"date\">2024/04/17 17:23</span><em class=\"tag c_global\">國際</em><a target=\"_blank\" href=\"https://www.ettoday.net/news/20240417/2721411.htm\">終於可以「周休三日」！新加坡公布最新就業準則\\u3000今年底開始實施</a></h3>\\r\\n                                                              <h3><span class=\"date\">2024/04/17 17:22</span><em class=\"tag c_lifestyle\">生活</em><a target=\"_blank\" href=\"https://www.ettoday.net/news/20240417/2721544.htm\">快訊／17:17花蓮近海規模5.2「極淺層地震」\\u3000最大震度4級</a></h3>\\r\\n                                                              <h3><span class=\"date\">2024/04/17 17:22</span><em class=\"tag c_star\">影劇</em><a target=\"_blank\" href=\"https://star.ettoday.net/news/2721541\">陳語謙宣布「28歲榮升二寶媽媽」！\\u3000慶生報喜：是幸孕的生日</a></h3>\\r\\n                                                              <h3><span class=\"date\">2024/04/17 17:22</span><em class=\"tag c_finance\">財經</em><a target=\"_blank\" href=\"https://finance.ettoday.net/news/2721516\">IEAT訪大阪、名古屋商工會議所\\u3000開發台日產業合作商機</a></h3>\\r\\n                                                              <h3><span class=\"date\">2024/04/17 17:21</span><em class=\"tag c_star\">影劇</em><a target=\"_blank\" href=\"https://star.ettoday.net/news/2721539\">每天練唱10次！A-Lin再登「THE FIRST TAKE」</a></h3>\\r\\n                                                              <h3><span class=\"date\">2024/04/17 17:20</span><em class=\"tag c_star\">影劇</em><a target=\"_blank\" href=\"https://star.ettoday.net/news/2721528\">老公坤達重回Energy男團生活！\\u3000柯佳嬿笑：真的有嫁給偶像的感覺\\u2028</a></h3>\\r\\n                                                              <h3><span class=\"date\">2024/04/17 17:20</span><em class=\"tag c_house\">房產雲</em><a target=\"_blank\" href=\"https://house.ettoday.net/news/2721447\">距捷運站約100米！睽違三年迴龍站旁新建案\\u3000早鳥預約掀熱潮</a></h3>\\r\\n                                                              <h3><span class=\"date\">2024/04/17 17:19</span><em class=\"tag c_speed\">ET車雲</em><a target=\"_blank\" href=\"https://speed.ettoday.net/news/2721537\">中華汽車預告「MG全新車款」準備登台！大改款菱利今年見</a></h3>\\r\\n                                                              <h3><span class=\"date\">2024/04/17 17:19</span><em class=\"tag c_lifestyle\">生活</em><a target=\"_blank\" href=\"https://www.ettoday.net/news/20240417/2691216.htm\">快訊／國家警報響！17:17花蓮地震\\u3000台北有感</a></h3>\\r\\n                                                              <h3><span class=\"date\">2024/04/17 17:17</span><em class=\"tag c_lifestyle\">生活</em><a target=\"_blank\" href=\"https://www.ettoday.net/news/20240417/2721529.htm\">37歲工程師體重破百！相親狂嫌「89公斤女」：我想找迷你身材</a></h3>\\r\\n                                                              <h3><span class=\"date\">2024/04/17 17:15</span><em class=\"tag c_consuming\">消費</em><a target=\"_blank\" href=\"https://www.ettoday.net/news/20240417/2721527.htm\">Ten Thousand Coffee進駐微風廣場！推出向時尚致敬黑炫醇濃系列＋啟動精品咖啡服務</a></h3>\\r\\n                                                              <h3><span class=\"date\">2024/04/17 17:12</span><em class=\"tag c_pet\">寵物動物</em><a target=\"_blank\" href=\"https://pets.ettoday.net/news/2721506\">爬樓梯腳扭到！黑柴看醫生「苦瓜臉求救」\\u3000飼主笑：有次還嘆氣</a></h3>\\r\\n                                                              <h3><span class=\"date\">2024/04/17 17:06</span><em class=\"tag c_star\">影劇</em><a target=\"_blank\" href=\"https://star.ettoday.net/news/2721515\">《金字塔遊戲》埋第二季伏筆！\\u3000苞娜、張多雅吐真實想法：很好奇</a></h3>\\r\\n                                                              <h3><span class=\"date\">2024/04/17 17:06</span><em class=\"tag c_consuming\">消費</em><a target=\"_blank\" href=\"https://www.ettoday.net/news/20240417/2721491.htm\">7-11開賣「三麗鷗珍珠奶茶杯」！限定6款超可愛\\u3000杯裡還有小珍珠</a></h3>\\r\\n                                                              <h3><span class=\"date\">2024/04/17 17:06</span><em class=\"tag c_sport\">體育</em><a target=\"_blank\" href=\"https://sports.ettoday.net/news/2721274\">王威晨本周歸隊\\u3000兄弟2人選頂替江坤宇缺陣</a></h3>\\r\\n                                                              <h3><span class=\"date\">2024/04/17 17:04</span><em class=\"tag c_lifestyle\">生活</em><a target=\"_blank\" href=\"https://www.ettoday.net/news/20240417/2721503.htm\">捷運車廂「躺一片肉色謎物」\\u3000妹子尷尬！網傻：失主很著急</a></h3>\\r\\n                                                              <h3><span class=\"date\">2024/04/17 17:04</span><em class=\"tag c_commentary\">論壇</em><a target=\"_blank\" href=\"https://forum.ettoday.net/news/2720745\">林子盟／多元入學較好？美名校重採大考成績作入學標準</a></h3>\\r\\n                                                              <h3><span class=\"date\">2024/04/17 17:01</span><em class=\"tag c_china\">大陸</em><a target=\"_blank\" href=\"https://www.ettoday.net/news/20240417/2721494.htm\"><i class=\"icon_type_video\"></i>全紅嬋搭擋陳芋汐複製貼上「神同步」\\u3000合力完成「水花消失術」</a></h3>\\r\\n                                                              <h3><span class=\"date\">2024/04/17 17:01</span><em class=\"tag c_china\">大陸</em><a target=\"_blank\" href=\"https://www.ettoday.net/news/20240417/2721401.htm\">戰國「武王墩墓」撈到漂浮物！檢驗確認為：梅核、栗子、甜瓜籽</a></h3>\\r\\n                                                              <h3><span class=\"date\">2024/04/17 17:01</span><em class=\"tag c_news\">政治</em><a target=\"_blank\" href=\"https://www.ettoday.net/news/20240417/2721308.htm\">法務部忠告大法官們：勿廢除死刑！\\u3000理由曝光</a></h3>\\r\\n                                                              <h3><span class=\"date\">2024/04/17 17:00</span><em class=\"tag c_travel\">旅遊</em><a target=\"_blank\" href=\"https://travel.ettoday.net/article/2718808.htm\">八卦山新完工親子區！玩彰化縣最長27公尺、高低差8.5公尺溜滑梯</a></h3>\\r\\n                                                              <h3><span class=\"date\">2024/04/17 16:59</span><em class=\"tag c_lifestyle\">生活</em><a target=\"_blank\" href=\"https://www.ettoday.net/news/20240417/2721519.htm\">衛福部花蓮震災捐款破10億\\u3000基金會：可以最快速度支援到位</a></h3>\\r\\n                                                              <h3><span class=\"date\">2024/04/17 16:58</span><em class=\"tag c_news\">政治</em><a target=\"_blank\" href=\"https://www.ettoday.net/news/20240417/2721521.htm\">「恐怖、威權主義日益升高」\\u3000蔡英文：與國際合作捍衛民主和平</a></h3>\\r\\n                                                              <h3><span class=\"date\">2024/04/17 16:58</span><em class=\"tag c_global\">國際</em><a target=\"_blank\" href=\"https://www.ettoday.net/news/20240417/2721520.htm\">澳洲發布國防戰略報告\\u3000憂台海衝突風險增加</a></h3>\\r\\n                                                              <h3><span class=\"date\">2024/04/17 16:55</span><em class=\"tag c_lifestyle\">生活</em><a target=\"_blank\" href=\"https://www.ettoday.net/news/20240417/2721505.htm\">妹子吃晚餐驚見「GG在眼前狂晃」！\\u3000全場一看超怒：原始人</a></h3>\\r\\n                                                              <h3><span class=\"date\">2024/04/17 16:54</span><em class=\"tag c_star\">影劇</em><a target=\"_blank\" href=\"https://star.ettoday.net/news/2721497\">楊琪重度憂鬱12年消失螢光幕！\\u3000淚崩談「遭前男友家暴」：耳膜整個破掉</a></h3>\\r\\n                                                              <h3><span class=\"date\">2024/04/17 16:53</span><em class=\"tag c_society\">社會</em><a target=\"_blank\" href=\"https://www.ettoday.net/news/20240417/2721523.htm\">緬甸茶假冒台灣茶參賽得獎！嘉縣農業處：將鑑驗產地防堵</a></h3>\\r\\n                                                              <h3><span class=\"date\">2024/04/17 16:53</span><em class=\"tag c_finance\">財經</em><a target=\"_blank\" href=\"https://finance.ettoday.net/news/2721522\">3檔ETF成外資提款機\\u3000一表看今日賣超前十大</a></h3>\\r\\n                                                              <h3><span class=\"date\">2024/04/17 16:49</span><em class=\"tag c_speed\">ET車雲</em><a target=\"_blank\" href=\"https://speed.ettoday.net/news/2721509\">Lotus蓮花「入門電動休旅」登陸北美\\u30002車型、折合新台幣332萬起</a></h3>\\r\\n                                                              <h3><span class=\"date\">2024/04/17 16:49</span><em class=\"tag c_lifestyle\">生活</em><a target=\"_blank\" href=\"https://www.ettoday.net/news/20240417/2721479.htm\">手術醒來動不了！他吸不到氣嚇喊「鬼壓床」...醫師揭原因</a></h3>\\r\\n                                                              <h3><span class=\"date\">2024/04/17 16:49</span><em class=\"tag c_global\">國際</em><a target=\"_blank\" href=\"https://www.ettoday.net/news/20240417/2721428.htm\">愛吃海鮮要注意\\u3000美研究：恐增加攝入「永久化學物」風險</a></h3>\\r\\n                                                              <h3><span class=\"date\">2024/04/17 16:47</span><em class=\"tag c_society\">社會</em><a target=\"_blank\" href=\"https://www.ettoday.net/news/20240417/2721466.htm\">人夫激戰鄰座女同事拍性愛片\\u3000「電腦桌面放家庭照」讓她賠50萬</a></h3>\\r\\n                                                              <h3><span class=\"date\">2024/04/17 16:45</span><em class=\"tag c_sport\">體育</em><a target=\"_blank\" href=\"https://sports.ettoday.net/news/2721511\"><i class=\"icon_type_video\"></i>台鋼7月花蓮見！張肇元因疫情、地震2度告吹\\u3000陳文杰連2場MVP</a></h3>\\r\\n                                                              <h3><span class=\"date\">2024/04/17 16:44</span><em class=\"tag c_china\">大陸</em><a target=\"_blank\" href=\"https://www.ettoday.net/news/20240417/2721492.htm\">投資8億大橋「一吹就倒」！護欄大段倒塌\\u3000官方：可能風太大了</a></h3>\\r\\n                                                              <h3><span class=\"date\">2024/04/17 16:42</span><em class=\"tag c_news\">政治</em><a target=\"_blank\" href=\"https://www.ettoday.net/news/20240417/2721440.htm\">民進黨「堅韌之島」國際座談4／26登場\\u30005月還有入黨活動</a></h3>\\r\\n                                                              <h3><span class=\"date\">2024/04/17 16:41</span><em class=\"tag c_local\">地方</em><a target=\"_blank\" href=\"https://www.ettoday.net/news/20240417/2721510.htm\">因應防汛季節南消六大防災備災超前部署\\u3000淹水潛勢地區搶救演練</a></h3>\\r\\n                                                              <h3><span class=\"date\">2024/04/17 16:41</span><em class=\"tag c_global\">國際</em><a target=\"_blank\" href=\"https://www.ettoday.net/news/20240417/2721484.htm\">登機時間01:15看不懂！\\u3000大馬大學生分不清凌晨下午「錯過飛機」</a></h3>\\r\\n                                                              <h3><span class=\"date\">2024/04/17 16:38</span><em class=\"tag c_star\">影劇</em><a target=\"_blank\" href=\"https://star.ettoday.net/news/2721399\">Selina曝登記進度放話生三胎！\\u3000爆料Ella育兒沒原則</a></h3>\\r\\n                                                              <h3><span class=\"date\">2024/04/17 16:34</span><em class=\"tag c_global\">國際</em><a target=\"_blank\" href=\"https://www.ettoday.net/news/20240417/2721474.htm\">醫師罷工！韓女胸痛「遭6間醫院拒收」\\u3000主動脈剝離拖6小時身亡</a></h3>\\r\\n                                                              <h3><span class=\"date\">2024/04/17 16:32</span><em class=\"tag c_pet\">寵物動物</em><a target=\"_blank\" href=\"https://pets.ettoday.net/news/2721040\">回家見「蜥蜴尾巴斷掉」嚇爛\\u3000飼主驚恐拿起「閃亮銀色脫皮」觀察</a></h3>\\r\\n                                                              <h3><span class=\"date\">2024/04/17 16:28</span><em class=\"tag c_news\">政治</em><a target=\"_blank\" href=\"https://www.ettoday.net/news/20240417/2721495.htm\">暖男上身！韓國瑜接見以色列議員訪團\\u3000盼受難者安息、恢復和平</a></h3>\\r\\n                                                              <h3><span class=\"date\">2024/04/17 16:27</span><em class=\"tag c_global\">國際</em><a target=\"_blank\" href=\"https://www.ettoday.net/news/20240417/2721336.htm\">懸賞20萬弒父！狠心兒最後「自己來」痛毆老爸致死\\u3000判處終身監禁</a></h3>\\r\\n\\t\\t\\t\\t\\t\\t\\t  </div>\\r\\n\\t\\t\\t\\t\\t\\t\\t  <!--part_list_2 文字列表 結束-->\\r\\n\\t\\t\\t\\t\\t\\t\\t  \\r\\n\\t\\t\\t\\t\\t\\t\\t  <!--loading 開始 -->\\r\\n\\t\\t\\t\\t\\t\\t\\t  <div class=\"loading\"></div>\\r\\n\\t\\t\\t\\t\\t\\t\\t  <!--loading 結束-->\\r\\n\\r\\n<!--無限滾動相關模組 開始-->\\r\\n\\n<script>\\n(function (){\\n\\t\\n\\tvar iPieceH;\\n\\tvar iPieceOffsetTop;\\n\\tvar iPieceOffsetBottom;\\n\\t\\n\\tvar iWinH;\\n\\tvar iWinScorllTop;\\n\\t\\n\\tvar iPointA\\n\\t\\n\\tvar x = 1;\\n\\t\\n\\t\\n\\tfunction fnBottom(){\\n\\t\\tiPieceH = $(\".c1\").innerHeight();\\n\\t\\tiPieceOffsetTop = $(\".c1\").offset().top;\\n\\t\\tiPieceOffsetBottom = iPieceOffsetTop + iPieceH;\\n\\t\\tiWinH = $(window).innerHeight();\\n\\t\\tiWinScorllTop = $(this).scrollTop();\\n\\t\\tiPointA= iPieceOffsetBottom - iWinH -500;\\n\\t\\t//x = $(\".c1 .add\").length\\n\\t\\tif(x <= 68 && iWinScorllTop > iPointA){\\n\\t\\t\\t//$(\".info_0\").append(\"到底--\");\\n\\t\\t\\t$(window).off(\"scroll\", fnBottom);\\n\\t\\t\\tfnAjax();\\n                        \\n\\t\\t}\\n                \\n\\t};\\n\\t\\n\\tfunction fnAjax(){\\n\\t\\t//$(\".c1 .loading\").show();\\n\\t\\t//$(\".infinite_scroll .part_list_2\").append(\"<div class=\\'add\\'><img src=\\'images/003.jpg\\'></div>\"); //仿ajax\\n\\t\\t//$(window).on(\"scroll\", fnBottom);\\n                \\n            $(\".c1 .loading\").show();//顯示轉圈圈\\n            $.post( \"//www.ettoday.net/show_roll.php\", { \\n                    offset: x,\\n                    tPage: \"3\",\\n                    tFile: \"20240417.xml\",\\n                    tOt: \"0\",\\n                    tSi: \"100\",\\n                    tAr: \"0\"\\n                })\\n              .done(function( data ) {\\n                \\n                setTimeout(function(){\\n                    if(data!=\\'null\\'){\\n                        //console.log(\\'data ok x:\\'+x);\\n                        $(\".infinite_scroll .part_list_2\").append(data); //加入取得的資料\\n                        $(\".infinite_scroll .part_list_2.lazyload img\").lazyload();\\n                        $(window).on(\"scroll\", fnBottom);\\n                    }else{\\n                        x=10;\\n                        //console.log(\\'data null x:\\'+x);\\n                    }\\n\\n                    //console.log(\\'data final x:\\'+x);\\n                    $(\".c1 .loading\").hide();//關閉轉圈圈\\n                }, 50);\\n                x++;\\n              });\\n              \\n              //console.log(\\'data ++ x:\\'+x);\\n\\t};\\n\\t\\n    //初始\\n\\t$(window).on(\"scroll\", fnBottom);\\n        //fnAjax();//onload 先載入一次\\n})();\\n</script>\\n\\n\\t\\t\\r\\n\\t\\t\\t\\t\\t\\t  </div>\\r\\n\\t\\t\\t\\t\\t\\t  <!--block_content 結束-->\\r\\n\\t\\t\\t\\t\\t  </div>\\r\\n\\t\\t\\t\\t\\t  <!--block_1 區塊 結束-->\\r\\n\\t\\t\\t\\t\\t\\t\\r\\n\\t\\t\\t\\t\\t\\t\\r\\n                  </div>\\r\\n                  <!--直欄 c1 結束-->\\r\\n                  \\r\\n                  <!--直欄 c2 開始-->\\r\\n                    <div class=\"c2\">\\r\\n                    \\t<!--c2 inner 開始-->\\r\\n                    \\t<div class=\"inner\">\\r\\n                            \\n<!-- PC_全網_超級快閃廣告 start -->\\n<div id=\"all_crazygif\" class=\"crazygif\">\\n  <script type=\"text/javascript\">\\n  (function(){\\n    var ts = Math.random();\\n    document.write(\\'<scr\\' + \\'ipt type=\"text/javascript\" src=\"https://ad2.ettoday.net/ads.php?bid=all_crazygif&rr=\\'+ ts +\\'\"></scr\\' + \\'ipt>\\');\\n  })()\\n  </script>\\n</div>\\n<!-- PC_全網_超級快閃廣告 end -->\\n\\n<!--廣告 內頁_巨幅(上) 開始-->\\n<div id=\"newslist_300x250_top\" class=\"ad_300 ad_300x250_top\">\\n  <script type=\"text/javascript\">\\n    var ts = Math.random();\\n    document.write(\\'<scr\\' + \\'ipt  type=\"text/javascript\" src=\"https://ad2.ettoday.net/ads.php?bid=newslist_300x250_top&rr=\\' + ts + \\'\"></scr\\' + \\'ipt>\\');\\n  </script>\\n</div>\\n<!--廣告 內頁_巨幅(上) 開始-->\\n\\n<!--廣告 全網_巨幅 all_300x250 開始-->\\n<div id=\"all_300x250\" class=\"ad_300\">\\n  <script type=\"text/javascript\">\\n    var ts = Math.random();\\n    document.write(\\'<scr\\' + \\'ipt  type=\"text/javascript\" src=\"https://ad2.ettoday.net/ads.php?bid=all_300x250&rr=\\' + ts + \\'\"></scr\\' + \\'ipt>\\');\\n  </script>\\n</div>\\n<!--廣告 全網_巨幅 all_300x250 結束-->\\n\\n<!--block_1 區塊 開始-->\\n<!--熱門新聞 開始-->\\n\\t\\t\\t\\t\\t\\t  <div class=\"block block_1\">\\n\\t\\t\\t\\t\\t\\t\\t  <!--block_title 開始-->\\n\\t\\t\\t\\t\\t\\t\\t  <div class=\"block_title\">\\n\\t\\t\\t\\t\\t\\t\\t      <h3><em class=\"icon\"></em>熱門新聞</h3>\\n\\t\\t\\t\\t\\t\\t\\t  </div>\\n\\t\\t\\t\\t\\t\\t\\t  <!--block_title 結束-->\\n\\t\\t\\t\\t\\t\\t\\t  <!--block_content 開始-->\\n\\t\\t\\t\\t\\t\\t\\t  <div class=\"block_content\">\\n\\n\\t\\t\\t\\t\\t\\t\\t\\t  <!--part_list_5 文字列表 開始-->\\n\\t\\t\\t\\t\\t\\t\\t\\t  <div class=\"part_list_5 sidebar-hot-news clearfix\">\\n                                                                      <h3><a href=\"https://www.ettoday.net/news/20240417/2721062.htm\" title=\"即／1千元打賭游到對岸！\\u3000失蹤高職生遺體找到了\"><i class=\"icon_type_video\"></i>即／1千元打賭游到對岸！\\u3000失蹤高職生遺體找到了</a></h3>\\n                                                                      <h3><a href=\"https://www.ettoday.net/news/20240417/2721129.htm\" title=\"女與男友爭吵突開車門跳車重摔\\u3000搶救3小時不治\"><i class=\"icon_type_video\"></i>女與男友爭吵突開車門跳車重摔\\u3000搶救3小時不治</a></h3>\\n                                                                      <h3><a href=\"https://star.ettoday.net/news/2720977\" title=\"吳卓源爆「無縫重疊ØZI分手舊愛」！親密照被挖\"><i class=\"icon_type_video\"></i>吳卓源爆「無縫重疊ØZI分手舊愛」！親密照被挖</a></h3>\\n                                                                      <h3><a href=\"https://www.ettoday.net/news/20240417/2721015.htm\" title=\"幼兒園超狂「東京大阪7日遊」\\u3000網跪：心臟很大顆\">幼兒園超狂「東京大阪7日遊」\\u3000網跪：心臟很大顆</a></h3>\\n                                                                      <h3><a href=\"https://health.ettoday.net/news/2720589\" title=\"好多年輕人罹大腸癌！\\u3000醫：出現6警訊不要拖\">好多年輕人罹大腸癌！\\u3000醫：出現6警訊不要拖</a></h3>\\n\\t\\t\\t\\t\\t\\t\\t\\t\\t  <!--側欄-熱門新聞-文字廣告(1) 開始-->\\n\\t\\t\\t\\t\\t\\t\\t\\t\\t  <h3>\\n\\t\\t\\t\\t\\t\\t\\t\\t\\t\\t<script language=\"JavaScript\" type=\"text/javascript\">\\n\\t\\t\\t\\t\\t\\t\\t\\t\\t\\t<!-- <![CDATA[\\n\\t\\t\\t\\t\\t\\t\\t\\t\\t\\t\\t var ts = Math.random();\\n\\t\\t\\t\\t\\t\\t\\t\\t\\t\\t\\t document.write(\\'<scr\\' + \\'ipt language=\"JavaScript\" type=\"text/javascript\" src=\"//ad2.ettoday.net/ads.php?bid=all_news_text5&rr=\\'+ ts +\\'\"></scr\\' + \\'ipt>\\');\\n\\t\\t\\t\\t\\t\\t\\t\\t\\t\\t\\t // ]]> -->\\n\\t\\t\\t\\t\\t\\t\\t\\t\\t\\t</script>\\n\\t\\t\\t\\t\\t\\t\\t\\t\\t  </h3>\\n\\t\\t\\t\\t\\t\\t\\t\\t\\t  <!--側欄-熱門新聞-文字廣告(1) 結束-->\\n                                                                      <h3><a href=\"https://star.ettoday.net/news/2720979\" title=\"一粒分手4年學長男友！\\u3000不敵遠距親認「現正單身中」\">一粒分手4年學長男友！\\u3000不敵遠距親認「現正單身中」</a></h3>\\n                                                                      <h3><a href=\"https://star.ettoday.net/news/2720982\" title=\"直擊校唱女王陳華巷內激吻！\">直擊校唱女王陳華巷內激吻！</a></h3>\\n                                                                      <h3><a href=\"https://star.ettoday.net/news/2720976\" title=\"汪小菲求婚Mandy「前夫心寒發聲」！\">汪小菲求婚Mandy「前夫心寒發聲」！</a></h3>\\n                                                                      <h3><a href=\"https://www.ettoday.net/news/20240416/2720887.htm\" title=\"即／國1嚴重事故！貨櫃車衝到對向橫躺路中\"><i class=\"icon_type_video\"></i>即／國1嚴重事故！貨櫃車衝到對向橫躺路中</a></h3>\\n                                                                      <h3><a href=\"https://www.ettoday.net/news/20240416/2720451.htm\" title=\"出國玩領5000元！2024旅遊補助\\u3000申請方式一次看\">出國玩領5000元！2024旅遊補助\\u3000申請方式一次看</a></h3>\\n\\t\\t\\t\\t\\t\\t\\t\\t\\t  <!--側欄-熱門新聞-文字廣告(2) 開始-->\\n\\t\\t\\t\\t\\t\\t\\t\\t\\t  <h3>\\n\\t\\t\\t\\t\\t\\t\\t\\t\\t\\t<script language=\"JavaScript\" type=\"text/javascript\">\\n\\t\\t\\t\\t\\t\\t\\t\\t\\t\\t<!-- <![CDATA[\\n\\t\\t\\t\\t\\t\\t\\t\\t\\t\\t\\t var ts = Math.random();\\n\\t\\t\\t\\t\\t\\t\\t\\t\\t\\t\\t document.write(\\'<scr\\' + \\'ipt language=\"JavaScript\" type=\"text/javascript\" src=\"//ad2.ettoday.net/ads.php?bid=all_news_text6&rr=\\'+ ts +\\'\"></scr\\' + \\'ipt>\\');\\n\\t\\t\\t\\t\\t\\t\\t\\t\\t\\t\\t // ]]> -->\\n\\t\\t\\t\\t\\t\\t\\t\\t\\t\\t</script>\\n\\t\\t\\t\\t\\t\\t\\t\\t\\t  </h3>\\n\\t\\t\\t\\t\\t\\t\\t\\t\\t  <!--側欄-熱門新聞-文字廣告(2) 結束-->\\n                                                                      <h3><a href=\"https://www.ettoday.net/news/20240417/2720969.htm\" title=\"英超低調首富身價5800億\\u3000卻連公司櫃檯都不知道他\">英超低調首富身價5800億\\u3000卻連公司櫃檯都不知道他</a></h3>\\n                                                                      <h3><a href=\"https://www.ettoday.net/news/20240417/2721299.htm\" title=\"獨／高職生魂斷沙洲！堂姊、同學悲赴現場認屍淚崩\"><i class=\"icon_type_video\"></i>獨／高職生魂斷沙洲！堂姊、同學悲赴現場認屍淚崩</a></h3>\\n                                                                      <h3><a href=\"https://star.ettoday.net/news/2721211\" title=\"德州媽媽突發「不自殺聲明」！爆黃子佼案藏內鬼\">德州媽媽突發「不自殺聲明」！爆黃子佼案藏內鬼</a></h3>\\n                                                                      <h3><a href=\"https://www.ettoday.net/news/20240417/2720959.htm\" title=\"台灣東部海域02:59規模5「極淺層地震」\">台灣東部海域02:59規模5「極淺層地震」</a></h3>\\n                                                                      <h3><a href=\"https://star.ettoday.net/news/2721142\" title=\"峮峮挨罵穿空姐裝像孕婦「本人落淚道歉了」！\">峮峮挨罵穿空姐裝像孕婦「本人落淚道歉了」！</a></h3>\\n\\t\\t\\t\\t\\t\\t\\t\\t\\t  <!--側欄-熱門新聞-文字廣告(3) 開始-->\\n\\t\\t\\t\\t\\t\\t\\t\\t\\t  <h3>\\n\\t\\t\\t\\t\\t\\t\\t\\t\\t\\t<script language=\"JavaScript\" type=\"text/javascript\">\\n\\t\\t\\t\\t\\t\\t\\t\\t\\t\\t<!-- <![CDATA[\\n\\t\\t\\t\\t\\t\\t\\t\\t\\t\\t\\t var ts = Math.random();\\n\\t\\t\\t\\t\\t\\t\\t\\t\\t\\t\\t document.write(\\'<scr\\' + \\'ipt language=\"JavaScript\" type=\"text/javascript\" src=\"//ad2.ettoday.net/ads.php?bid=all_news_text7&rr=\\'+ ts +\\'\"></scr\\' + \\'ipt>\\');\\n\\t\\t\\t\\t\\t\\t\\t\\t\\t\\t\\t // ]]> -->\\n\\t\\t\\t\\t\\t\\t\\t\\t\\t\\t</script>\\n\\t\\t\\t\\t\\t\\t\\t\\t\\t  </h3>\\n\\t\\t\\t\\t\\t\\t\\t\\t\\t  <!--側欄-熱門新聞-文字廣告(3) 結束-->\\n\\t\\t\\t\\t\\t\\t\\t\\t  </div>\\n\\t\\t\\t\\t\\t\\t\\t\\t  <!--part_list_5 文字列表 結束-->\\n\\n\\t\\t\\t\\t\\t\\t\\t\\t  <!--more_box 開始-->\\n\\t\\t\\t\\t\\t\\t\\t\\t  <div class=\"more_box clearfix\">\\n\\t\\t\\t\\t\\t\\t\\t\\t      <a class=\"btn_more right\" href=\"/news/hot-news.htm\" >更多<i class=\"icon_arrow\"></i></a>\\n\\t\\t\\t\\t\\t\\t\\t\\t  </div>\\n\\t\\t\\t\\t\\t\\t\\t\\t  <!--more_box 結束-->\\n\\n\\t\\t\\t\\t\\t\\t\\t  </div>\\n\\t\\t\\t\\t\\t\\t\\t  <!--block_content 結束-->\\n\\t\\t\\t\\t\\t\\t  </div>\\n<!--熱門新聞 結束-->\\n<!--block_1 區塊 結束-->\\n\\n\\n<!-- BEGIN 525386 EtToday - TW - Adblocking - 300x600 START -->\\n<script type=\"text/javascript\" async src=\"//static.criteo.net/js/ld/publishertag.js\"></script>\\n<div id=\"abp2\" style=\"width:300px;height:600px;margin:10px auto\"></div>\\n<script type=\"text/javascript\">\\n    var Criteo = Criteo || {};\\n        Criteo.events = Criteo.events || [];\\n        Criteo.events.push(function() {\\n        Criteo.DisplayAcceptableAdIfAdblocked({\\n        \"zoneid\": 525386,\\n        \"containerid\": \"abp2\",\\n        \"overrideZoneFloor\": false\\n    });\\n});\\n</script>\\n<!-- BEGIN 525386 EtToday - TW - Adblocking - 300x600 END -->\\n\\n<!--廣告 全網_大型摩天 all_300x600_2 開始-->\\n<div id=\"all_300x600_2\" class=\"ad_300\">\\n  <script type=\"text/javascript\">\\n    var ts = Math.random();\\n      document.write(\\'<scr\\' + \\'ipt  type=\"text/javascript\" src=\"https://ad2.ettoday.net/ads.php?bid=all_300x600_2&rr=\\' + ts + \\'\"></scr\\' + \\'ipt>\\');\\n  </script>\\n</div>\\n<!--廣告 全網_大型摩天 all_300x600_2 結束-->\\n\\n<!--block_1 區塊 boba 熱門影音 開始-->\\n      <div class=\"block block_1 hot_video\">\\n              <!--block_title 開始-->\\n              <div class=\"block_title\">\\n                <h3><em class=\"icon\"></em>最夯影音</h3>\\n                <a href=\"//boba.ettoday.net/\" class=\"btn_more\">更多<i class=\"icon_arrow\"></i></a>\\n              </div>\\n              <!--block_title 結束-->\\n              <!--block_content 開始-->\\n              <div class=\"block_content\">\\n                      <!--part_pictxt_4 圖文列表 開始-->\\n                      <div class=\"part_pictxt_4\">\\n                              <!-- 首則有圖 -->\\n                              \\n                              <div class=\"cover_pic\">\\n                                  <a class=\"pic icon_type_video\" href=\"//boba.ettoday.net/videonews/420871\" target=\"_blank\">\\n                                          <img src=\"//cdn2.ettoday.net/film/images/420/c420871.jpg\">\\n                                              <h3>孫藝真聽「孫仙」害羞：我只是平凡人\\u3000初次訪台甜喊「下次跟玄彬一起來」</h3>\\n                                      </a>\\n                              </div>\\n\\n                              <!-- 首則有圖 -->\\n                              <!-- 廣告 最夯影音(2) 開始 -->\\n                              <script language=\"JavaScript\" type=\"text/javascript\">\\n                                    <!-- <![CDATA[\\n                                            var ts = Math.random();\\n                                            document.write(\\'<scr\\' + \\'ipt language=\"JavaScript\" type=\"text/javascript\" src=\"//ad2.ettoday.net/ads.php?bid=mobileweb_video_1&rr=\\'+ ts +\\'\"></scr\\' + \\'ipt>\\');\\n                              // ]]> -->\\n                              </script>\\n                              <!-- 廣告 最夯影音(2) 結束 -->\\n                              <!-- 廣告 最夯影音(3) 開始 -->\\n                              <script language=\"JavaScript\" type=\"text/javascript\">\\n                                    <!-- <![CDATA[\\n                                            var ts = Math.random();\\n                                            document.write(\\'<scr\\' + \\'ipt language=\"JavaScript\" type=\"text/javascript\" src=\"//ad2.ettoday.net/ads.php?bid=mobileweb_video_2&rr=\\'+ ts +\\'\"></scr\\' + \\'ipt>\\');\\n                              // ]]> -->\\n                              </script>\\n                              <!-- 廣告 最夯影音(3) 結束 -->\\n                              <!-- 廣告 最夯影音(4) 開始 -->\\n                              <script language=\"JavaScript\" type=\"text/javascript\">\\n                                    <!-- <![CDATA[\\n                                            var ts = Math.random();\\n                                            document.write(\\'<scr\\' + \\'ipt language=\"JavaScript\" type=\"text/javascript\" src=\"//ad2.ettoday.net/ads.php?bid=mobileweb_video_3&rr=\\'+ ts +\\'\"></scr\\' + \\'ipt>\\');\\n                              // ]]> -->\\n                              </script>\\n                            <!-- 廣告 最夯影音(4) 結束 -->\\n                              \\n      <!--組-->\\n      <div class=\"piece clearfix\">\\n              <a class=\"pic icon_type_video\" href=\"//boba.ettoday.net/videonews/420782\" target=\"_blank\"><img src=\"//cdn2.ettoday.net/film/images/420/c420782.jpg\"></a>\\n              <h3><a href=\"//boba.ettoday.net/videonews/420782\" target=\"_blank\">LE SSERAFIM科切拉「開全麥翻車」\\u3000宮脇咲良親回：展現過最棒的舞台</a></h3>\\n      </div>\\n      <!--組-->\\n    \\n      <!--組-->\\n      <div class=\"piece clearfix\">\\n              <a class=\"pic icon_type_video\" href=\"//boba.ettoday.net/videonews/420860\" target=\"_blank\"><img src=\"//cdn2.ettoday.net/film/images/420/c420860.jpg\"></a>\\n              <h3><a href=\"//boba.ettoday.net/videonews/420860\" target=\"_blank\">雨琦「模仿台灣腔」突然問號\\u3000和Minnie在高雄去按摩被認出</a></h3>\\n      </div>\\n      <!--組-->\\n    \\n      <!--組-->\\n      <div class=\"piece clearfix\">\\n              <a class=\"pic icon_type_video\" href=\"//boba.ettoday.net/videonews/420834\" target=\"_blank\"><img src=\"//cdn2.ettoday.net/film/images/420/c420834.jpg\"></a>\\n              <h3><a href=\"//boba.ettoday.net/videonews/420834\" target=\"_blank\">澎湖驚見2米長雨傘旗魚！\\u3000花蓮地震後又現1稀有物種</a></h3>\\n      </div>\\n      <!--組-->\\n    \\n      <!--組-->\\n      <div class=\"piece clearfix\">\\n              <a class=\"pic icon_type_video\" href=\"//boba.ettoday.net/videonews/420870\" target=\"_blank\"><img src=\"//cdn2.ettoday.net/film/images/420/c420870.jpg\"></a>\\n              <h3><a href=\"//boba.ettoday.net/videonews/420870\" target=\"_blank\">典典寶寶「WOW.YA」浮誇反應做好做滿\\u3000一直討嘴嘴吃..趙小僑.劉亮佐求救！</a></h3>\\n      </div>\\n      <!--組-->\\n    \\n\\n                      </div>\\n                      <!--part_pictxt_4 圖文列表 結束-->\\n              </div>\\n              <!--block_content 結束-->\\n      </div>\\n<!--block_1 區塊 boba 熱門影音 結束-->\\n\\n\\n<!--廣告 聯播網-巨幅 開始-->\\n<div id=\"newslist_banner_middle\" class=\"ad_300 dfp-300x250-middle\">\\n  <script type=\"text/javascript\">\\n    var ts = Math.random();\\n      document.write(\\'<scr\\' + \\'ipt  type=\"text/javascript\" src=\"https://ad2.ettoday.net/ads.php?bid=newslist_banner_middle&rr=\\' + ts + \\'\"></scr\\' + \\'ipt>\\');\\n  </script>\\n</div>\\n<!--廣告 聯播網-巨幅 結束-->\\n\\n<!--block_1 區塊 開始-->\\n<!--熱門快報 開始-->\\n\\n<div class=\"block block_1\">\\n        <!--block_title 開始-->\\n        <div class=\"block_title\">\\n          <h3><em class=\"icon\"></em>熱門快報</h3>\\n        </div>\\n        <!--block_title 結束-->\\n        <!--block_content 開始-->\\n        <div class=\"block_content sidebar-hot-express\">\\n                <!--part_pictxt_6 圖文列表 開始-->\\n                <div class=\"part_pictxt_6\">\\n                                        <!--組-->\\n                        <div class=\"piece clearfix\">\\n                            <a ref=\"nofollow\" class=\"pic\" href=\"https://star.ettoday.net/news/2699601\" target=\"_blank\" title=\"誰能稱霸？投票抽百項好禮\">\\n                              <img src=\"https://cdn2.ettoday.net/style/misc/loading_100x100.gif\" data-original=\"https://cdn1.ettoday.net/img/paste/111/111606.gif\" alt=\"誰能稱霸？投票抽百項好禮\">\\n                            </a>\\n                                <h3 class=\"title\"><a ref=\"nofollow\" href=\"https://star.ettoday.net/news/2699601\" target=\"_blank\" title=\"誰能稱霸？投票抽百項好禮\">誰能稱霸？投票抽百項好禮</a></h3>\\n                                <p class=\"summary\">臺大盃熱舞大賽人氣隊伍由你決定！天天投票，抽藍芽喇叭等百項好禮！</p>\\n                        </div>\\n                        <!--組-->\\n                                        <!--組-->\\n                        <div class=\"piece clearfix\">\\n                            <a ref=\"nofollow\" class=\"pic\" href=\"https://www.ettoday.net/feature/2021house\" target=\"_blank\" title=\"房價飆漲！全台房市秘技大公開！\">\\n                              <img src=\"https://cdn2.ettoday.net/style/misc/loading_100x100.gif\" data-original=\"https://cdn1.ettoday.net/img/paste/106/106056.jpg\" alt=\"房價飆漲！全台房市秘技大公開！\">\\n                            </a>\\n                                <h3 class=\"title\"><a ref=\"nofollow\" href=\"https://www.ettoday.net/feature/2021house\" target=\"_blank\" title=\"房價飆漲！全台房市秘技大公開！\">房價飆漲！全台房市秘技大公開！</a></h3>\\n                                <p class=\"summary\">還在為高房價發愁嗎？想知道更多專業分析和房巿風向，快進即賞屋看最新趨勢。</p>\\n                        </div>\\n                        <!--組-->\\n                                        <!--組-->\\n                        <div class=\"piece clearfix\">\\n                            <a ref=\"nofollow\" class=\"pic\" href=\"https://star.ettoday.net/news/2700994\" target=\"_blank\" title=\"新聞雲APP寵粉不手軟\">\\n                              <img src=\"https://cdn2.ettoday.net/style/misc/loading_100x100.gif\" data-original=\"https://cdn1.ettoday.net/img/paste/111/111673.gif\" alt=\"新聞雲APP寵粉不手軟\">\\n                            </a>\\n                                <h3 class=\"title\"><a ref=\"nofollow\" href=\"https://star.ettoday.net/news/2700994\" target=\"_blank\" title=\"新聞雲APP寵粉不手軟\">新聞雲APP寵粉不手軟</a></h3>\\n                                <p class=\"summary\">新聞雲會員專享！假日送超商購物金限時開搶</p>\\n                        </div>\\n                        <!--組-->\\n                                        <!--組-->\\n                        <div class=\"piece clearfix\">\\n                            <a ref=\"nofollow\" class=\"pic\" href=\"https://ettoday.kaik.io/?utm_source=BNHO&utm_medium=ettoday\" target=\"_blank\" title=\"專業明星師資、精湛教學！\">\\n                              <img src=\"https://cdn2.ettoday.net/style/misc/loading_100x100.gif\" data-original=\"https://cdn1.ettoday.net/img/paste/110/110889.gif\" alt=\"專業明星師資、精湛教學！\">\\n                            </a>\\n                                <h3 class=\"title\"><a ref=\"nofollow\" href=\"https://ettoday.kaik.io/?utm_source=BNHO&utm_medium=ettoday\" target=\"_blank\" title=\"專業明星師資、精湛教學！\">專業明星師資、精湛教學！</a></h3>\\n                                <p class=\"summary\">想提升技能卻沒時間？專業師資精心設計每門課程，讓你隨時隨地都可以學習！</p>\\n                        </div>\\n                        <!--組-->\\n                                        <!--組-->\\n                        <div class=\"piece clearfix\">\\n                            <a ref=\"nofollow\" class=\"pic\" href=\"https://news.google.com/publications/CAAqBggKMK-yNzCn6gc?hl=zh-TW&gl=TW&ceid=TW%3Azh-Hant\" target=\"_blank\" title=\"快來追蹤ETtoday！\">\\n                              <img src=\"https://cdn2.ettoday.net/style/misc/loading_100x100.gif\" data-original=\"https://cdn1.ettoday.net/img/paste/110/110452.gif\" alt=\"快來追蹤ETtoday！\">\\n                            </a>\\n                                <h3 class=\"title\"><a ref=\"nofollow\" href=\"https://news.google.com/publications/CAAqBggKMK-yNzCn6gc?hl=zh-TW&gl=TW&ceid=TW%3Azh-Hant\" target=\"_blank\" title=\"快來追蹤ETtoday！\">快來追蹤ETtoday！</a></h3>\\n                                <p class=\"summary\">點擊右上角的星星追蹤ETtoday，讓你一手掌握最即時的時事焦點，輕鬆成為話題大師！</p>\\n                        </div>\\n                        <!--組-->\\n                                </div>\\n                <!--part_pictxt_6 圖文列表 結束-->\\n        </div>\\n        <!--block_content 結束-->\\n</div>\\n<!--熱門快報 結束-->\\n<!--block_1 區塊 結束-->\\n\\n<!--footer 開始-->\\n<div class=\"footer\" itemscope itemprop=\"publisher\" itemtype=\"http://schema.org/Organization\">\\r\\n    <!--選單 開始-->\\r\\n    <div class=\"menu_1\">\\r\\n        <a href=\"mailto:editor@ettoday.net\" title=\"editor@ettoday.net\">我要投稿</a>\\r\\n        <a href=\"https://www.104.com.tw/jobbank/custjob/index.php?r=cust&j=623a43295a5c3e6a40583a1d1d1d1d5f2443a363189j50&jobsource=checkc\" target=\"_blank\">人才招募</a>\\r\\n        <a href=\"https://events.ettoday.net/about-ettoday/index.htm\" target=\"_blank\">關於我們</a>\\r\\n        <a href=\"https://www.emic.com.tw\" target=\"_blank\">集團簡介</a>\\r\\n        <a href=\"https://events.ettoday.net/adsales/index.php7\" target=\"_blank\">廣告刊登/合作提案</a>\\r\\n        <a href=\"mailto:service@ettoday.net\" title=\"service@ettoday.net\" itemprop=\"email\" content=\"service@ettoday.net\">客服信箱</a>\\r\\n        <a class=\"btn_open_partner\" href=\"javascript:;\">合作媒體</a>\\r\\n        <!--開啟 .partner lightbox -->\\r\\n        <a href=\"https://www.ettoday.net/sitemap.htm\" target=\"_blank\">Sitemap</a>\\r\\n        <a href=\"https://member.ettoday.net/clause_member.php7\" target=\"_blank\">服務條款</a>\\r\\n        <a href=\"https://member.ettoday.net/clause_privacy.php7\" target=\"_blank\">隱私權政策</a>\\r\\n        <a href=\"https://member.ettoday.net/clause_copyright.php7\" target=\"_blank\">著作權聲明</a>\\r\\n        <a href=\"https://member.ettoday.net/clause_duty.php7\" target=\"_blank\">免責聲明</a>\\r\\n        <a href=\"https://www.ettoday.net/events/news-express/epaper.php\" target=\"_blank\">RSS訂閱</a>\\r\\n    </div>\\r\\n    <!--選單 結束-->\\r\\n\\r\\n    <!--.part_menu_6 社群按鈕 開始-->\\r\\n    <div class=\"part_menu_6\">\\r\\n                <a class=\"btn fb\" href=\"https://www.facebook.com/ETtoday\" target=\"_blank\" title=\"Facebook\">FB</a>\\r\\n        <a class=\"btn yt\" href=\"https://www.youtube.com/user/ettoday/\" target=\"_blank\" title=\"YouTube\">YouTube</a>\\r\\n        <a class=\"btn ig\" href=\"https://www.instagram.com/ettodaytw/\" target=\"_blank\" title=\"Instagram\">Instagram</a>\\r\\n                <a class=\"btn weibo\" href=\"https://www.weibo.com/ettodaynet\" target=\"_blank\" title=\"微博\">weibo</a>\\r\\n        <a class=\"btn rss\" href=\"https://www.ettoday.net/events/news-express/epaper.php\" target=\"_blank\" title=\"RSS\">RSS</a>\\r\\n                <a class=\"btn google_news\" href=\"https://news.google.com/publications/CAAqBggKMK-yNzCn6gc?ceid=TW:zh-Hant&oc=3\" target=\"_blank\" title=\"Google News\">Google News</a>\\r\\n            </div>\\r\\n    <!--.part_menu_6 社群按鈕 結束-->\\r\\n    \\r\\n    <address>\\r\\n    <span>東森新媒體控股股份有限公司</span><span itemprop=\"name\" class=\"company_name\">ETtoday新聞雲</span> 版權所有，非經授權，不許轉載本網站內容 <br>\\r\\n    &copy; ETtoday.net All Rights Reserved. <br>\\r\\n    電話：<span itemprop=\"telephone\">+886-2-5555-6366</span>\\r\\n    </address>\\r\\n    <!--本區隱藏 開始-->\\r\\n    <span itemprop=\"logo\" itemscope itemtype=\"http://schema.org/ImageObject\">\\r\\n        <link itemprop=\"url\" href=\"https://cdn2.ettoday.net/style/ettoday2017/images/push.jpg\">\\r\\n    </span>\\r\\n    <!--本區隱藏 結束-->\\r\\n</div>\\r\\n\\r\\n<!-- extra 開始 -->\\r\\n\\n\\n<div id=\"test_feature\" style=\"clear:both\">\\n<script language=\"JavaScript\" type=\"text/javascript\">\\n  var ts = Math.random();\\n  document.write(\\'<scr\\' + \\'ipt language=\"JavaScript\" type=\"text/javascript\" src=\"//ad.ettoday.net/ads.php?bid=test_feature&rr=\\'+ ts +\\'\"></scr\\' + \\'ipt>\\');\\n</script>\\n</div>\\n\\n\\n\\n\\n<!-- TenMax 原生廣告 start-->\\n<script>\\nvar myCountry = $.cookie(\"et_client_country\"); //取得目前cookie值(國家代碼)\\nif(myCountry==null || (myCountry!=\"CN\" && myCountry!=\"cn\") && $(\".news-page\").length > 0){//非大陸才執行, 且為新聞頁\\n\\n\\tvar tmaxTags = document.createElement(\"div\");\\n\\ttmaxTags.innerHTML += \\'<ins class=\"rmax\" data-rmax-space-id=\"1a2687687697428b\" data-rmax-space-type=\"NATIVE\" data-target-id=\".news-page .tab_content h3\" data-target-index=\"0\" data-target-pos=\"AFTER\"></ins>\\';\\n\\ttmaxTags.innerHTML += \\'<ins class=\"rmax\" data-rmax-space-id=\"1a2687687697428b\" data-rmax-space-type=\"NATIVE\" data-target-id=\".news-page .tab_content h3\" data-target-index=\"2\" data-target-pos=\"AFTER\"></ins>\\';\\n\\ttmaxTags.innerHTML += \\'<ins class=\"rmax\" data-rmax-space-id=\"1a2687687697428b\" data-rmax-space-type=\"NATIVE\" data-target-id=\".news-page .tab_content h3\" data-target-index=\"4\" data-target-pos=\"AFTER\"></ins>\\';\\n\\tdocument.body.appendChild(tmaxTags);\\n\\n\\tvar script = document.createElement(\"script\");\\n\\tscript.async = true;\\n\\tscript.src = \"//tenmax-static.cacafly.net/ssp/adsbytenmax.js\";\\n\\tdocument.body.appendChild(script);\\n}\\n</script>\\n\\n<!-- TenMax 原生廣告 end-->\\n\\n\\n\\n\\n\\n<!-- Criteo CDB - SA - 300x250 - Bottom Right -->\\n<!--\\n<div class=\"ad_300\">\\n<script type=\"text/javascript\" src=\"//static.ettoday.net/ad/criteo/criteo300x250-2-cdb.js\"></script>\\n</div>\\n--><!-- extra 結束 -->\\r\\n<!--footer 結束-->\\n\\n<!--廣告 全網_大型摩天 all_300x600_1 開始-->\\n<div id=\"all_300x600_1\" class=\"ad_300\">\\n  <script type=\"text/javascript\">\\n    var ts = Math.random();\\n    document.write(\\'<scr\\' + \\'ipt  type=\"text/javascript\" src=\"https://ad2.ettoday.net/ads.php?bid=all_300x600_1&rr=\\' + ts + \\'\"></scr\\' + \\'ipt>\\');\\n  </script>\\n</div>\\n<!--廣告 全網_大型摩天 all_300x600_1 結束-->\\n\\n<!-- BEGIN 505672 EtToday - TW - Adblocking - 300x250 START -->\\n<script type=\"text/javascript\" async src=\"//static.criteo.net/js/ld/publishertag.js\"></script>\\n<div id=\"abp1\" style=\"width:300px;height:250px;margin:10px auto\"></div>\\n<script type=\"text/javascript\">\\nvar Criteo = Criteo || {};\\nCriteo.events = Criteo.events || [];\\nCriteo.events.push(function() {\\n    Criteo.DisplayAcceptableAdIfAdblocked({\\n       \"zoneid\": 505672,\\n       \"containerid\": \"abp1\",\\n       \"overrideZoneFloor\": false\\n    });\\n});\\n</script>\\n<!-- BEGIN 505672 EtToday - TW - Adblocking - 300x250 END -->\\n\\n<!--partner 合作媒體 開始-->\\n<div class=\"partner\" id=\"partner\">\\n  <div class=\"overlay\"></div>\\n    <div class=\"btn_close_partner\"></div>\\n    <div class=\"content\">\\n      <iframe marginwidth=\"0\" marginheight=\"0\" frameborder=\"0\" scrolling=\"no\" allowtransparency=\"true\"></iframe>\\n    </div>\\n</div>\\n<!--partner 合作媒體 結束-->\\n\\n\\n                        </div>\\r\\n                        <!--c2 inner 結束-->\\r\\n                    </div>\\r\\n                    <!--直欄 c2 結束-->\\r\\n                </div>\\r\\n                <!--橫列 r1 結束-->\\r\\n                \\r\\n            </div>\\r\\n            <!--container 結束-->\\r\\n        </div>\\r\\n        <!--container_box 結束-->\\r\\n       <!--gototop 回到最上面 開始-->\\r\\n       <div class=\"gototop\">回到最上面</div>\\r\\n       <!--gototop 回到最上面 開始-->\\r\\n    </div>\\r\\n    <!--wrapper 結束-->\\r\\n</div>\\r\\n<!--wrapper_box 結束-->\\r\\n\\r\\n</body>\\r\\n</html>\\r\\n'"
            ],
            "application/vnd.google.colaboratory.intrinsic+json": {
              "type": "string"
            }
          },
          "metadata": {},
          "execution_count": 4
        }
      ]
    },
    {
      "cell_type": "code",
      "source": [
        "soup = BeautifulSoup(response.text, 'html.parser')"
      ],
      "metadata": {
        "id": "up-Sz1jZs5gn"
      },
      "execution_count": 5,
      "outputs": []
    },
    {
      "cell_type": "code",
      "source": [
        "soup.find_all('h3', limit=5)"
      ],
      "metadata": {
        "colab": {
          "base_uri": "https://localhost:8080/"
        },
        "id": "ZdhH27dEb_Me",
        "outputId": "417705e1-9c41-4784-ce28-7beb89c461c4"
      },
      "execution_count": 6,
      "outputs": [
        {
          "output_type": "execute_result",
          "data": {
            "text/plain": [
              "[<h3><a href=\"https://www.ettoday.net/feature/index\" target=\"_blank\">精彩專題</a></h3>,\n",
              " <h3>熱門活動</h3>,\n",
              " <h3><em class=\"icon\"></em>新聞總覽</h3>,\n",
              " <h3><span class=\"date\">2024/04/17 18:46</span><em class=\"tag c_society\">社會</em><a href=\"https://www.ettoday.net/news/20240417/2721593.htm\" target=\"_blank\">前酒店少爺2度闖東家偷2.5萬小費　3男當街對他上銬也有事</a></h3>,\n",
              " <h3><span class=\"date\">2024/04/17 18:45</span><em class=\"tag c_star\">影劇</em><a href=\"https://star.ettoday.net/news/2721512\" target=\"_blank\">被問是什麼星座？嚴立婷狂回「雞」　對話曝光笑翻網友</a></h3>]"
            ]
          },
          "metadata": {},
          "execution_count": 6
        }
      ]
    },
    {
      "cell_type": "code",
      "source": [
        "for article in soup.find_all('h3'):\n",
        "  print(article.text.strip())"
      ],
      "metadata": {
        "colab": {
          "base_uri": "https://localhost:8080/"
        },
        "id": "Yle88ylKcFhe",
        "outputId": "bd30c521-d3e3-43b5-d89f-60a7984b4607"
      },
      "execution_count": 7,
      "outputs": [
        {
          "output_type": "stream",
          "name": "stdout",
          "text": [
            "精彩專題\n",
            "熱門活動\n",
            "新聞總覽\n",
            "2024/04/17 18:46社會前酒店少爺2度闖東家偷2.5萬小費　3男當街對他上銬也有事\n",
            "2024/04/17 18:45影劇被問是什麼星座？嚴立婷狂回「雞」　對話曝光笑翻網友\n",
            "2024/04/17 18:41影劇歐漢聲虧前妻「桃花旺」感情近況曝！　被問黃子佼嘆氣：沒有私交\n",
            "2024/04/17 18:38社會中山高264K「司機恍神」小貨車撞工程緩衝車　90度側翻外車道\n",
            "2024/04/17 18:34生活涵碧樓才洗得到！香氛品牌聯名咖啡店　推母親節限定禮盒做公益\n",
            "2024/04/17 18:33社會台南女警遭警大退學自戕　麻豆分局官田所正副所長調職處分\n",
            "2024/04/17 18:32社會陸戰隊66旅修繕包商雇用逃逸移工　專勤隊持拘票衝營區抓6人\n",
            "2024/04/17 18:28財經巴拿馬運河5月中開始增加通行量至24艘次　6月增至32艘次\n",
            "2024/04/17 18:27影劇《哈利波特》露娜32歲近照曝光　黑髮變「石內卜風格」 認不出來\n",
            "2024/04/17 18:25生活小感冒要命！AED電擊3次搶贏閻王　高雄男「心肌炎」倒地險猝死\n",
            "2024/04/17 18:25國際潑水節狂歡成悲劇！　泰國6天「243人喪命」近2千人受傷\n",
            "2024/04/17 18:24政治王世堅轟租賃公司向官股銀行借「五千億」　轉手向民眾放高利貸\n",
            "2024/04/17 18:23影劇冠軍正妹顏值神似韓星SOMl！城市小姐連辦19屆超吸睛\n",
            "2024/04/17 18:20生活桃園老字號「阿珍米干」宣布停業！在地人不捨：口袋名單少一家\n",
            "2024/04/17 18:19影劇馮德倫「曬舒淇舊照」被老婆嗆跪算盤！　現身親曝愛妻宣言：很漂亮啊\n",
            "2024/04/17 18:17影劇《浪姐5》太操！　謝金燕驚「體重剩44.7kg」：沒看過腿細成這樣\n",
            "2024/04/17 18:16社會買船走私35億大麻「太空包」　1381kg毒品全被抄...10人慘了\n",
            "2024/04/17 18:14體育張進德開始打T座　布蘭登周日重返一軍先發\n",
            "2024/04/17 18:14國際1歲女嬰不喝奶遭掌摑「臉頰大片瘀青」　新加坡前幼師判關9個月\n",
            "2024/04/17 18:11國際「M痘」出現變異株了！累計108例個案2死亡　恐爆發全球大流行\n",
            "2024/04/17 18:10政治鄭文燦520後新職　傳賴清德新政府鎖定擔任海基會董事長\n",
            "2024/04/17 18:09生活「限用塑膠袋場域」擬擴大　環境部：傳統市場、早餐店將納入\n",
            "2024/04/17 18:07社會拋開壓力！士院給一日公假挺法官自主辦活動：彼此打氣\n",
            "2024/04/17 18:04社會誰的「家」撞爛牌樓！拖板車載貨櫃屋　超標28cm硬闖社區釀禍\n",
            "2024/04/17 18:01大陸陸發改委：認為出口商品多了就是產能過剩，這是站不住腳的\n",
            "2024/04/17 18:00生活娶到賺到！「超強旺夫運」TOP3星座女　又美又溫柔\n",
            "2024/04/17 17:59消費7-11限量首賣「紅玉18拿鐵」與「春烏龍拿鐵」　限時2杯168元\n",
            "2024/04/17 17:57生活震後2周又有5.2餘震　氣象署：地體結構調整「規模4以上還會有」\n",
            "2024/04/17 17:57房產雲外地人、成大學生都能租　台南唯一自建社宅明年招租\n",
            "2024/04/17 17:57國際開戰逾2年　BBC估俄羅斯「5萬士兵陣亡」！絞肉機戰術傷亡慘重\n",
            "2024/04/17 17:56大陸香港國安法生效至今「291人被捕」　最小的年紀只有15歲\n",
            "2024/04/17 17:55生活完美男友「性癖讓她好痛苦」　手機影片噁爆！全場轟：這是犯罪\n",
            "2024/04/17 17:523C家電安卓用戶注意！三款聊天App默默盜用個資\n",
            "2024/04/17 17:51社會快訊／核二廠出海口驚見男浮屍　「頭套黑塑膠袋」腳遭綑綁\n",
            "2024/04/17 17:51旅遊前米其林星廚坐鎮！台中「元紀．台灣菜」4／20開幕　2千元吃得到\n",
            "2024/04/17 17:51生活台灣每十步就有什麼？台人默契「2答案」刷一排：多到數不清\n",
            "2024/04/17 17:49體育王威晨、江坤宇掛傷號　兄弟教頭：團隊失誤稍多\n",
            "2024/04/17 17:48時尚蔡凡熙示範遛狗穿搭合體Lulu逛NB快閃店　IU同款夏日潮T首登台\n",
            "2024/04/17 17:47國際美股警訊？分析師預測「暴跌30%」遭拋售　這時間點又重挫\n",
            "2024/04/17 17:47影劇好評！吳東諺染一頭銀髮變男團　甜謝老婆白家綺神隊友\n",
            "2024/04/17 17:45房產雲假裝配合買房！家人秒拿他印章「買預售屋」　男傻了：被迫背房貸\n",
            "2024/04/17 17:45生活22歲女隆乳命危！醫美診所3年8起爭議挨罰48萬　竟改名繼續執業\n",
            "2024/04/17 17:44社會持磚塊砸壞路旁機車遭通緝　中壢大媽被拘提還是不說原因\n",
            "2024/04/17 17:44健康逾16萬件家暴通報！親密暴力占比最高　3招自保\n",
            "2024/04/17 17:44寵物動物上樓驚見「圓形海豹貓」大喇喇躺地上　舉手手賣萌：快來餵食～\n",
            "2024/04/17 17:41生活快訊／台中大華國中疑食物中毒　通報人數暴增至75師生\n",
            "2024/04/17 17:40社會6億黑心水產吃下肚！進口冷凍蝦仁、干貝遭改效期　原產地變台灣\n",
            "2024/04/17 17:40大陸紐時：德國難與中國切割　因經貿往來密切\n",
            "2024/04/17 17:40財經ASML首季新訂單不如預期盤前先殺5%　市場擔心復甦轉向\n",
            "2024/04/17 17:40政治黃國昌轟實務見解混亂　揪2點嗆法制單位兒虐報告：不及格！\n",
            "2024/04/17 17:38大陸睪丸藏腹部！27歲女婚檢發現自己竟是男兒身　醫：恐危及性命\n",
            "2024/04/17 17:34體育田徑雙帥衝刺巴黎奧運　彭名揚想討回亞運的不甘心\n",
            "2024/04/17 17:33消費拯救家庭和諧？家人送禮指南　網友大讚「比他／她還懂我的點」\n",
            "2024/04/17 17:32時尚孫藝真來台行頭大解析！絕美粉色穿搭　高跟鞋是凱特王妃愛牌\n",
            "2024/04/17 17:30影劇梁詠琪攻蛋「花海舞台」太衝擊！　殯葬業網紅：後勁好強…\n",
            "2024/04/17 17:29社會快訊／國4砂石車自撞護欄！衝下邊坡車頭全毀　駕駛昏迷送醫搶救\n",
            "2024/04/17 17:26生活北部即將變天！鋒面「旺盛對流」夜襲　明天雨區擴全台\n",
            "2024/04/17 17:23體育克迪左肘發炎好轉　王建民透露復健進度\n",
            "2024/04/17 17:23國際終於可以「周休三日」！新加坡公布最新就業準則　今年底開始實施\n",
            "2024/04/17 17:22生活快訊／17:17花蓮近海規模5.2「極淺層地震」　最大震度4級\n",
            "2024/04/17 17:22影劇陳語謙宣布「28歲榮升二寶媽媽」！　慶生報喜：是幸孕的生日\n",
            "2024/04/17 17:22財經IEAT訪大阪、名古屋商工會議所　開發台日產業合作商機\n",
            "2024/04/17 17:21影劇每天練唱10次！A-Lin再登「THE FIRST TAKE」\n",
            "2024/04/17 17:20影劇老公坤達重回Energy男團生活！　柯佳嬿笑：真的有嫁給偶像的感覺\n",
            "2024/04/17 17:20房產雲距捷運站約100米！睽違三年迴龍站旁新建案　早鳥預約掀熱潮\n",
            "2024/04/17 17:19ET車雲中華汽車預告「MG全新車款」準備登台！大改款菱利今年見\n",
            "2024/04/17 17:19生活快訊／國家警報響！17:17花蓮地震　台北有感\n",
            "2024/04/17 17:17生活37歲工程師體重破百！相親狂嫌「89公斤女」：我想找迷你身材\n",
            "2024/04/17 17:15消費Ten Thousand Coffee進駐微風廣場！推出向時尚致敬黑炫醇濃系列＋啟動精品咖啡服務\n",
            "2024/04/17 17:12寵物動物爬樓梯腳扭到！黑柴看醫生「苦瓜臉求救」　飼主笑：有次還嘆氣\n",
            "2024/04/17 17:06影劇《金字塔遊戲》埋第二季伏筆！　苞娜、張多雅吐真實想法：很好奇\n",
            "2024/04/17 17:06消費7-11開賣「三麗鷗珍珠奶茶杯」！限定6款超可愛　杯裡還有小珍珠\n",
            "2024/04/17 17:06體育王威晨本周歸隊　兄弟2人選頂替江坤宇缺陣\n",
            "2024/04/17 17:04生活捷運車廂「躺一片肉色謎物」　妹子尷尬！網傻：失主很著急\n",
            "2024/04/17 17:04論壇林子盟／多元入學較好？美名校重採大考成績作入學標準\n",
            "2024/04/17 17:01大陸全紅嬋搭擋陳芋汐複製貼上「神同步」　合力完成「水花消失術」\n",
            "2024/04/17 17:01大陸戰國「武王墩墓」撈到漂浮物！檢驗確認為：梅核、栗子、甜瓜籽\n",
            "2024/04/17 17:01政治法務部忠告大法官們：勿廢除死刑！　理由曝光\n",
            "2024/04/17 17:00旅遊八卦山新完工親子區！玩彰化縣最長27公尺、高低差8.5公尺溜滑梯\n",
            "2024/04/17 16:59生活衛福部花蓮震災捐款破10億　基金會：可以最快速度支援到位\n",
            "2024/04/17 16:58政治「恐怖、威權主義日益升高」　蔡英文：與國際合作捍衛民主和平\n",
            "2024/04/17 16:58國際澳洲發布國防戰略報告　憂台海衝突風險增加\n",
            "2024/04/17 16:55生活妹子吃晚餐驚見「GG在眼前狂晃」！　全場一看超怒：原始人\n",
            "2024/04/17 16:54影劇楊琪重度憂鬱12年消失螢光幕！　淚崩談「遭前男友家暴」：耳膜整個破掉\n",
            "2024/04/17 16:53社會緬甸茶假冒台灣茶參賽得獎！嘉縣農業處：將鑑驗產地防堵\n",
            "2024/04/17 16:53財經3檔ETF成外資提款機　一表看今日賣超前十大\n",
            "2024/04/17 16:49ET車雲Lotus蓮花「入門電動休旅」登陸北美　2車型、折合新台幣332萬起\n",
            "2024/04/17 16:49生活手術醒來動不了！他吸不到氣嚇喊「鬼壓床」...醫師揭原因\n",
            "2024/04/17 16:49國際愛吃海鮮要注意　美研究：恐增加攝入「永久化學物」風險\n",
            "2024/04/17 16:47社會人夫激戰鄰座女同事拍性愛片　「電腦桌面放家庭照」讓她賠50萬\n",
            "2024/04/17 16:45體育台鋼7月花蓮見！張肇元因疫情、地震2度告吹　陳文杰連2場MVP\n",
            "2024/04/17 16:44大陸投資8億大橋「一吹就倒」！護欄大段倒塌　官方：可能風太大了\n",
            "2024/04/17 16:42政治民進黨「堅韌之島」國際座談4／26登場　5月還有入黨活動\n",
            "2024/04/17 16:41地方因應防汛季節南消六大防災備災超前部署　淹水潛勢地區搶救演練\n",
            "2024/04/17 16:41國際登機時間01:15看不懂！　大馬大學生分不清凌晨下午「錯過飛機」\n",
            "2024/04/17 16:38影劇Selina曝登記進度放話生三胎！　爆料Ella育兒沒原則\n",
            "2024/04/17 16:34國際醫師罷工！韓女胸痛「遭6間醫院拒收」　主動脈剝離拖6小時身亡\n",
            "2024/04/17 16:32寵物動物回家見「蜥蜴尾巴斷掉」嚇爛　飼主驚恐拿起「閃亮銀色脫皮」觀察\n",
            "2024/04/17 16:28政治暖男上身！韓國瑜接見以色列議員訪團　盼受難者安息、恢復和平\n",
            "2024/04/17 16:27國際懸賞20萬弒父！狠心兒最後「自己來」痛毆老爸致死　判處終身監禁\n",
            "熱門新聞\n",
            "即／1千元打賭游到對岸！　失蹤高職生遺體找到了\n",
            "女與男友爭吵突開車門跳車重摔　搶救3小時不治\n",
            "吳卓源爆「無縫重疊ØZI分手舊愛」！親密照被挖\n",
            "幼兒園超狂「東京大阪7日遊」　網跪：心臟很大顆\n",
            "好多年輕人罹大腸癌！　醫：出現6警訊不要拖\n",
            "\n",
            "一粒分手4年學長男友！　不敵遠距親認「現正單身中」\n",
            "直擊校唱女王陳華巷內激吻！\n",
            "汪小菲求婚Mandy「前夫心寒發聲」！\n",
            "即／國1嚴重事故！貨櫃車衝到對向橫躺路中\n",
            "出國玩領5000元！2024旅遊補助　申請方式一次看\n",
            "\n",
            "英超低調首富身價5800億　卻連公司櫃檯都不知道他\n",
            "獨／高職生魂斷沙洲！堂姊、同學悲赴現場認屍淚崩\n",
            "德州媽媽突發「不自殺聲明」！爆黃子佼案藏內鬼\n",
            "台灣東部海域02:59規模5「極淺層地震」\n",
            "峮峮挨罵穿空姐裝像孕婦「本人落淚道歉了」！\n",
            "\n",
            "最夯影音\n",
            "孫藝真聽「孫仙」害羞：我只是平凡人　初次訪台甜喊「下次跟玄彬一起來」\n",
            "LE SSERAFIM科切拉「開全麥翻車」　宮脇咲良親回：展現過最棒的舞台\n",
            "雨琦「模仿台灣腔」突然問號　和Minnie在高雄去按摩被認出\n",
            "澎湖驚見2米長雨傘旗魚！　花蓮地震後又現1稀有物種\n",
            "典典寶寶「WOW.YA」浮誇反應做好做滿　一直討嘴嘴吃..趙小僑.劉亮佐求救！\n",
            "熱門快報\n",
            "誰能稱霸？投票抽百項好禮\n",
            "房價飆漲！全台房市秘技大公開！\n",
            "新聞雲APP寵粉不手軟\n",
            "專業明星師資、精湛教學！\n",
            "快來追蹤ETtoday！\n"
          ]
        }
      ]
    },
    {
      "cell_type": "markdown",
      "source": [
        "將資料使用正則表達式，把日期與時間刪除，只留下標題文字"
      ],
      "metadata": {
        "id": "kSILAQgUbBDt"
      }
    },
    {
      "cell_type": "code",
      "source": [
        "data = []\n",
        "for article in soup.find_all('h3'):\n",
        "    title_text = article.text.strip()\n",
        "    title_text = re.sub(r'\\d{4}/\\d{2}/\\d{2}\\s+\\d{2}:\\d{2}', '', title_text)\n",
        "\n",
        "    link = article.select_one(\"a\")\n",
        "    if link:\n",
        "        href = link.get(\"href\")\n",
        "    else:\n",
        "        href = None\n",
        "\n",
        "    data.append({'title': title_text, 'link': href})"
      ],
      "metadata": {
        "id": "XnVqx2uZuO1q"
      },
      "execution_count": 8,
      "outputs": []
    },
    {
      "cell_type": "markdown",
      "source": [
        "存成dataframe與dict"
      ],
      "metadata": {
        "id": "nVs-Q0GdbV6A"
      }
    },
    {
      "cell_type": "code",
      "source": [
        "df = pd.DataFrame(data)\n",
        "print(df)\n",
        "\n",
        "data_dict = df.to_dict(orient='records')\n",
        "print(data_dict)"
      ],
      "metadata": {
        "colab": {
          "base_uri": "https://localhost:8080/"
        },
        "id": "pC5rjpnVbRIn",
        "outputId": "158b5c84-3b47-4d24-c5f3-87950ce8e972"
      },
      "execution_count": 9,
      "outputs": [
        {
          "output_type": "stream",
          "name": "stdout",
          "text": [
            "                               title  \\\n",
            "0                               精彩專題   \n",
            "1                               熱門活動   \n",
            "2                               新聞總覽   \n",
            "3    社會前酒店少爺2度闖東家偷2.5萬小費　3男當街對他上銬也有事   \n",
            "4        影劇被問是什麼星座？嚴立婷狂回「雞」　對話曝光笑翻網友   \n",
            "..                               ...   \n",
            "129                     誰能稱霸？投票抽百項好禮   \n",
            "130                  房價飆漲！全台房市秘技大公開！   \n",
            "131                      新聞雲APP寵粉不手軟   \n",
            "132                     專業明星師資、精湛教學！   \n",
            "133                     快來追蹤ETtoday！   \n",
            "\n",
            "                                                  link  \n",
            "0                https://www.ettoday.net/feature/index  \n",
            "1                                                 None  \n",
            "2                                                 None  \n",
            "3    https://www.ettoday.net/news/20240417/2721593.htm  \n",
            "4                https://star.ettoday.net/news/2721512  \n",
            "..                                                 ...  \n",
            "129              https://star.ettoday.net/news/2699601  \n",
            "130          https://www.ettoday.net/feature/2021house  \n",
            "131              https://star.ettoday.net/news/2700994  \n",
            "132  https://ettoday.kaik.io/?utm_source=BNHO&utm_m...  \n",
            "133  https://news.google.com/publications/CAAqBggKM...  \n",
            "\n",
            "[134 rows x 2 columns]\n",
            "[{'title': '精彩專題', 'link': 'https://www.ettoday.net/feature/index'}, {'title': '熱門活動', 'link': None}, {'title': '新聞總覽', 'link': None}, {'title': '社會前酒店少爺2度闖東家偷2.5萬小費\\u30003男當街對他上銬也有事', 'link': 'https://www.ettoday.net/news/20240417/2721593.htm'}, {'title': '影劇被問是什麼星座？嚴立婷狂回「雞」\\u3000對話曝光笑翻網友', 'link': 'https://star.ettoday.net/news/2721512'}, {'title': '影劇歐漢聲虧前妻「桃花旺」感情近況曝！\\u3000被問黃子佼嘆氣：沒有私交', 'link': 'https://star.ettoday.net/news/2721594'}, {'title': '社會中山高264K「司機恍神」小貨車撞工程緩衝車\\u300090度側翻外車道', 'link': 'https://www.ettoday.net/news/20240417/2721592.htm'}, {'title': '生活涵碧樓才洗得到！香氛品牌聯名咖啡店\\u3000推母親節限定禮盒做公益', 'link': 'https://www.ettoday.net/news/20240417/2721579.htm'}, {'title': '社會台南女警遭警大退學自戕\\u3000麻豆分局官田所正副所長調職處分', 'link': 'https://www.ettoday.net/news/20240417/2721591.htm'}, {'title': '社會陸戰隊66旅修繕包商雇用逃逸移工\\u3000專勤隊持拘票衝營區抓6人', 'link': 'https://www.ettoday.net/news/20240417/2721589.htm'}, {'title': '財經巴拿馬運河5月中開始增加通行量至24艘次\\u30006月增至32艘次', 'link': 'https://finance.ettoday.net/news/2721590'}, {'title': '影劇《哈利波特》露娜32歲近照曝光\\u3000黑髮變「石內卜風格」 認不出來', 'link': 'https://star.ettoday.net/news/2721325'}, {'title': '生活小感冒要命！AED電擊3次搶贏閻王\\u3000高雄男「心肌炎」倒地險猝死', 'link': 'https://www.ettoday.net/news/20240417/2721586.htm'}, {'title': '國際潑水節狂歡成悲劇！\\u3000泰國6天「243人喪命」近2千人受傷', 'link': 'https://www.ettoday.net/news/20240417/2721563.htm'}, {'title': '政治王世堅轟租賃公司向官股銀行借「五千億」\\u3000轉手向民眾放高利貸', 'link': 'https://www.ettoday.net/news/20240417/2721498.htm'}, {'title': '影劇冠軍正妹顏值神似韓星SOMl！城市小姐連辦19屆超吸睛', 'link': 'https://star.ettoday.net/news/2721488'}, {'title': '生活桃園老字號「阿珍米干」宣布停業！在地人不捨：口袋名單少一家', 'link': 'https://www.ettoday.net/news/20240417/2721587.htm'}, {'title': '影劇馮德倫「曬舒淇舊照」被老婆嗆跪算盤！\\u3000現身親曝愛妻宣言：很漂亮啊', 'link': 'https://star.ettoday.net/news/2721578'}, {'title': '影劇《浪姐5》太操！\\u3000謝金燕驚「體重剩44.7kg」：沒看過腿細成這樣', 'link': 'https://star.ettoday.net/news/2721576'}, {'title': '社會買船走私35億大麻「太空包」\\u30001381kg毒品全被抄...10人慘了', 'link': 'https://www.ettoday.net/news/20240417/2721574.htm'}, {'title': '體育張進德開始打T座\\u3000布蘭登周日重返一軍先發', 'link': 'https://sports.ettoday.net/news/2721566'}, {'title': '國際1歲女嬰不喝奶遭掌摑「臉頰大片瘀青」\\u3000新加坡前幼師判關9個月', 'link': 'https://www.ettoday.net/news/20240417/2721547.htm'}, {'title': '國際「M痘」出現變異株了！累計108例個案2死亡\\u3000恐爆發全球大流行', 'link': 'https://www.ettoday.net/news/20240417/2721584.htm'}, {'title': '政治鄭文燦520後新職\\u3000傳賴清德新政府鎖定擔任海基會董事長', 'link': 'https://www.ettoday.net/news/20240417/2721580.htm'}, {'title': '生活「限用塑膠袋場域」擬擴大\\u3000環境部：傳統市場、早餐店將納入', 'link': 'https://www.ettoday.net/news/20240417/2721572.htm'}, {'title': '社會拋開壓力！士院給一日公假挺法官自主辦活動：彼此打氣', 'link': 'https://www.ettoday.net/news/20240417/2721535.htm'}, {'title': '社會誰的「家」撞爛牌樓！拖板車載貨櫃屋\\u3000超標28cm硬闖社區釀禍', 'link': 'https://www.ettoday.net/news/20240417/2721571.htm'}, {'title': '大陸陸發改委：認為出口商品多了就是產能過剩，這是站不住腳的', 'link': 'https://www.ettoday.net/news/20240417/2721558.htm'}, {'title': '生活娶到賺到！「超強旺夫運」TOP3星座女\\u3000又美又溫柔', 'link': 'https://www.ettoday.net/news/20240417/2718400.htm'}, {'title': '消費7-11限量首賣「紅玉18拿鐵」與「春烏龍拿鐵」\\u3000限時2杯168元', 'link': 'https://www.ettoday.net/news/20240417/2721422.htm'}, {'title': '生活震後2周又有5.2餘震\\u3000氣象署：地體結構調整「規模4以上還會有」', 'link': 'https://www.ettoday.net/news/20240417/2721570.htm'}, {'title': '房產雲外地人、成大學生都能租\\u3000台南唯一自建社宅明年招租', 'link': 'https://house.ettoday.net/news/2721555'}, {'title': '國際開戰逾2年\\u3000BBC估俄羅斯「5萬士兵陣亡」！絞肉機戰術傷亡慘重', 'link': 'https://www.ettoday.net/news/20240417/2721513.htm'}, {'title': '大陸香港國安法生效至今「291人被捕」\\u3000最小的年紀只有15歲', 'link': 'https://www.ettoday.net/news/20240417/2721561.htm'}, {'title': '生活完美男友「性癖讓她好痛苦」\\u3000手機影片噁爆！全場轟：這是犯罪', 'link': 'https://www.ettoday.net/news/20240417/2721564.htm'}, {'title': '3C家電安卓用戶注意！三款聊天App默默盜用個資', 'link': 'https://www.ettoday.net/news/20240417/2721567.htm'}, {'title': '社會快訊／核二廠出海口驚見男浮屍\\u3000「頭套黑塑膠袋」腳遭綑綁', 'link': 'https://www.ettoday.net/news/20240417/2721560.htm'}, {'title': '旅遊前米其林星廚坐鎮！台中「元紀．台灣菜」4／20開幕\\u30002千元吃得到', 'link': 'https://travel.ettoday.net/article/2721548.htm'}, {'title': '生活台灣每十步就有什麼？台人默契「2答案」刷一排：多到數不清', 'link': 'https://www.ettoday.net/news/20240417/2721525.htm'}, {'title': '體育王威晨、江坤宇掛傷號\\u3000兄弟教頭：團隊失誤稍多', 'link': 'https://sports.ettoday.net/news/2721545'}, {'title': '時尚蔡凡熙示範遛狗穿搭合體Lulu逛NB快閃店\\u3000IU同款夏日潮T首登台', 'link': 'https://fashion.ettoday.net/news/2721501'}, {'title': '國際美股警訊？分析師預測「暴跌30%」遭拋售\\u3000這時間點又重挫', 'link': 'https://www.ettoday.net/news/20240417/2721540.htm'}, {'title': '影劇好評！吳東諺染一頭銀髮變男團\\u3000甜謝老婆白家綺神隊友', 'link': 'https://star.ettoday.net/news/2721203'}, {'title': '房產雲假裝配合買房！家人秒拿他印章「買預售屋」\\u3000男傻了：被迫背房貸', 'link': 'https://house.ettoday.net/news/2721550'}, {'title': '生活22歲女隆乳命危！醫美診所3年8起爭議挨罰48萬\\u3000竟改名繼續執業', 'link': 'https://www.ettoday.net/news/20240417/2721536.htm'}, {'title': '社會持磚塊砸壞路旁機車遭通緝\\u3000中壢大媽被拘提還是不說原因', 'link': 'https://www.ettoday.net/news/20240417/2721552.htm'}, {'title': '健康逾16萬件家暴通報！親密暴力占比最高\\u30003招自保', 'link': 'https://health.ettoday.net/news/2721508'}, {'title': '寵物動物上樓驚見「圓形海豹貓」大喇喇躺地上\\u3000舉手手賣萌：快來餵食～', 'link': 'https://pets.ettoday.net/news/2721043'}, {'title': '生活快訊／台中大華國中疑食物中毒\\u3000通報人數暴增至75師生', 'link': 'https://www.ettoday.net/news/20240417/2721549.htm'}, {'title': '社會6億黑心水產吃下肚！進口冷凍蝦仁、干貝遭改效期\\u3000原產地變台灣', 'link': 'https://www.ettoday.net/news/20240417/2721546.htm'}, {'title': '大陸紐時：德國難與中國切割\\u3000因經貿往來密切', 'link': 'https://www.ettoday.net/news/20240417/2721532.htm'}, {'title': '財經ASML首季新訂單不如預期盤前先殺5%\\u3000市場擔心復甦轉向', 'link': 'https://finance.ettoday.net/news/2721454'}, {'title': '政治黃國昌轟實務見解混亂\\u3000揪2點嗆法制單位兒虐報告：不及格！', 'link': 'https://www.ettoday.net/news/20240417/2721448.htm'}, {'title': '大陸睪丸藏腹部！27歲女婚檢發現自己竟是男兒身\\u3000醫：恐危及性命', 'link': 'https://www.ettoday.net/news/20240417/2721455.htm'}, {'title': '體育田徑雙帥衝刺巴黎奧運\\u3000彭名揚想討回亞運的不甘心', 'link': 'https://sports.ettoday.net/news/2721551'}, {'title': '消費拯救家庭和諧？家人送禮指南\\u3000網友大讚「比他／她還懂我的點」', 'link': 'https://www.ettoday.net/news/20240417/2716764.htm'}, {'title': '時尚孫藝真來台行頭大解析！絕美粉色穿搭\\u3000高跟鞋是凱特王妃愛牌', 'link': 'https://fashion.ettoday.net/news/2721496'}, {'title': '影劇梁詠琪攻蛋「花海舞台」太衝擊！\\u3000殯葬業網紅：後勁好強…', 'link': 'https://star.ettoday.net/news/2721543'}, {'title': '社會快訊／國4砂石車自撞護欄！衝下邊坡車頭全毀\\u3000駕駛昏迷送醫搶救', 'link': 'https://www.ettoday.net/news/20240417/2721534.htm'}, {'title': '生活北部即將變天！鋒面「旺盛對流」夜襲\\u3000明天雨區擴全台', 'link': 'https://www.ettoday.net/news/20240417/2721542.htm'}, {'title': '體育克迪左肘發炎好轉\\u3000王建民透露復健進度', 'link': 'https://sports.ettoday.net/news/2721533'}, {'title': '國際終於可以「周休三日」！新加坡公布最新就業準則\\u3000今年底開始實施', 'link': 'https://www.ettoday.net/news/20240417/2721411.htm'}, {'title': '生活快訊／17:17花蓮近海規模5.2「極淺層地震」\\u3000最大震度4級', 'link': 'https://www.ettoday.net/news/20240417/2721544.htm'}, {'title': '影劇陳語謙宣布「28歲榮升二寶媽媽」！\\u3000慶生報喜：是幸孕的生日', 'link': 'https://star.ettoday.net/news/2721541'}, {'title': '財經IEAT訪大阪、名古屋商工會議所\\u3000開發台日產業合作商機', 'link': 'https://finance.ettoday.net/news/2721516'}, {'title': '影劇每天練唱10次！A-Lin再登「THE FIRST TAKE」', 'link': 'https://star.ettoday.net/news/2721539'}, {'title': '影劇老公坤達重回Energy男團生活！\\u3000柯佳嬿笑：真的有嫁給偶像的感覺', 'link': 'https://star.ettoday.net/news/2721528'}, {'title': '房產雲距捷運站約100米！睽違三年迴龍站旁新建案\\u3000早鳥預約掀熱潮', 'link': 'https://house.ettoday.net/news/2721447'}, {'title': 'ET車雲中華汽車預告「MG全新車款」準備登台！大改款菱利今年見', 'link': 'https://speed.ettoday.net/news/2721537'}, {'title': '生活快訊／國家警報響！17:17花蓮地震\\u3000台北有感', 'link': 'https://www.ettoday.net/news/20240417/2691216.htm'}, {'title': '生活37歲工程師體重破百！相親狂嫌「89公斤女」：我想找迷你身材', 'link': 'https://www.ettoday.net/news/20240417/2721529.htm'}, {'title': '消費Ten Thousand Coffee進駐微風廣場！推出向時尚致敬黑炫醇濃系列＋啟動精品咖啡服務', 'link': 'https://www.ettoday.net/news/20240417/2721527.htm'}, {'title': '寵物動物爬樓梯腳扭到！黑柴看醫生「苦瓜臉求救」\\u3000飼主笑：有次還嘆氣', 'link': 'https://pets.ettoday.net/news/2721506'}, {'title': '影劇《金字塔遊戲》埋第二季伏筆！\\u3000苞娜、張多雅吐真實想法：很好奇', 'link': 'https://star.ettoday.net/news/2721515'}, {'title': '消費7-11開賣「三麗鷗珍珠奶茶杯」！限定6款超可愛\\u3000杯裡還有小珍珠', 'link': 'https://www.ettoday.net/news/20240417/2721491.htm'}, {'title': '體育王威晨本周歸隊\\u3000兄弟2人選頂替江坤宇缺陣', 'link': 'https://sports.ettoday.net/news/2721274'}, {'title': '生活捷運車廂「躺一片肉色謎物」\\u3000妹子尷尬！網傻：失主很著急', 'link': 'https://www.ettoday.net/news/20240417/2721503.htm'}, {'title': '論壇林子盟／多元入學較好？美名校重採大考成績作入學標準', 'link': 'https://forum.ettoday.net/news/2720745'}, {'title': '大陸全紅嬋搭擋陳芋汐複製貼上「神同步」\\u3000合力完成「水花消失術」', 'link': 'https://www.ettoday.net/news/20240417/2721494.htm'}, {'title': '大陸戰國「武王墩墓」撈到漂浮物！檢驗確認為：梅核、栗子、甜瓜籽', 'link': 'https://www.ettoday.net/news/20240417/2721401.htm'}, {'title': '政治法務部忠告大法官們：勿廢除死刑！\\u3000理由曝光', 'link': 'https://www.ettoday.net/news/20240417/2721308.htm'}, {'title': '旅遊八卦山新完工親子區！玩彰化縣最長27公尺、高低差8.5公尺溜滑梯', 'link': 'https://travel.ettoday.net/article/2718808.htm'}, {'title': '生活衛福部花蓮震災捐款破10億\\u3000基金會：可以最快速度支援到位', 'link': 'https://www.ettoday.net/news/20240417/2721519.htm'}, {'title': '政治「恐怖、威權主義日益升高」\\u3000蔡英文：與國際合作捍衛民主和平', 'link': 'https://www.ettoday.net/news/20240417/2721521.htm'}, {'title': '國際澳洲發布國防戰略報告\\u3000憂台海衝突風險增加', 'link': 'https://www.ettoday.net/news/20240417/2721520.htm'}, {'title': '生活妹子吃晚餐驚見「GG在眼前狂晃」！\\u3000全場一看超怒：原始人', 'link': 'https://www.ettoday.net/news/20240417/2721505.htm'}, {'title': '影劇楊琪重度憂鬱12年消失螢光幕！\\u3000淚崩談「遭前男友家暴」：耳膜整個破掉', 'link': 'https://star.ettoday.net/news/2721497'}, {'title': '社會緬甸茶假冒台灣茶參賽得獎！嘉縣農業處：將鑑驗產地防堵', 'link': 'https://www.ettoday.net/news/20240417/2721523.htm'}, {'title': '財經3檔ETF成外資提款機\\u3000一表看今日賣超前十大', 'link': 'https://finance.ettoday.net/news/2721522'}, {'title': 'ET車雲Lotus蓮花「入門電動休旅」登陸北美\\u30002車型、折合新台幣332萬起', 'link': 'https://speed.ettoday.net/news/2721509'}, {'title': '生活手術醒來動不了！他吸不到氣嚇喊「鬼壓床」...醫師揭原因', 'link': 'https://www.ettoday.net/news/20240417/2721479.htm'}, {'title': '國際愛吃海鮮要注意\\u3000美研究：恐增加攝入「永久化學物」風險', 'link': 'https://www.ettoday.net/news/20240417/2721428.htm'}, {'title': '社會人夫激戰鄰座女同事拍性愛片\\u3000「電腦桌面放家庭照」讓她賠50萬', 'link': 'https://www.ettoday.net/news/20240417/2721466.htm'}, {'title': '體育台鋼7月花蓮見！張肇元因疫情、地震2度告吹\\u3000陳文杰連2場MVP', 'link': 'https://sports.ettoday.net/news/2721511'}, {'title': '大陸投資8億大橋「一吹就倒」！護欄大段倒塌\\u3000官方：可能風太大了', 'link': 'https://www.ettoday.net/news/20240417/2721492.htm'}, {'title': '政治民進黨「堅韌之島」國際座談4／26登場\\u30005月還有入黨活動', 'link': 'https://www.ettoday.net/news/20240417/2721440.htm'}, {'title': '地方因應防汛季節南消六大防災備災超前部署\\u3000淹水潛勢地區搶救演練', 'link': 'https://www.ettoday.net/news/20240417/2721510.htm'}, {'title': '國際登機時間01:15看不懂！\\u3000大馬大學生分不清凌晨下午「錯過飛機」', 'link': 'https://www.ettoday.net/news/20240417/2721484.htm'}, {'title': '影劇Selina曝登記進度放話生三胎！\\u3000爆料Ella育兒沒原則', 'link': 'https://star.ettoday.net/news/2721399'}, {'title': '國際醫師罷工！韓女胸痛「遭6間醫院拒收」\\u3000主動脈剝離拖6小時身亡', 'link': 'https://www.ettoday.net/news/20240417/2721474.htm'}, {'title': '寵物動物回家見「蜥蜴尾巴斷掉」嚇爛\\u3000飼主驚恐拿起「閃亮銀色脫皮」觀察', 'link': 'https://pets.ettoday.net/news/2721040'}, {'title': '政治暖男上身！韓國瑜接見以色列議員訪團\\u3000盼受難者安息、恢復和平', 'link': 'https://www.ettoday.net/news/20240417/2721495.htm'}, {'title': '國際懸賞20萬弒父！狠心兒最後「自己來」痛毆老爸致死\\u3000判處終身監禁', 'link': 'https://www.ettoday.net/news/20240417/2721336.htm'}, {'title': '熱門新聞', 'link': None}, {'title': '即／1千元打賭游到對岸！\\u3000失蹤高職生遺體找到了', 'link': 'https://www.ettoday.net/news/20240417/2721062.htm'}, {'title': '女與男友爭吵突開車門跳車重摔\\u3000搶救3小時不治', 'link': 'https://www.ettoday.net/news/20240417/2721129.htm'}, {'title': '吳卓源爆「無縫重疊ØZI分手舊愛」！親密照被挖', 'link': 'https://star.ettoday.net/news/2720977'}, {'title': '幼兒園超狂「東京大阪7日遊」\\u3000網跪：心臟很大顆', 'link': 'https://www.ettoday.net/news/20240417/2721015.htm'}, {'title': '好多年輕人罹大腸癌！\\u3000醫：出現6警訊不要拖', 'link': 'https://health.ettoday.net/news/2720589'}, {'title': '', 'link': None}, {'title': '一粒分手4年學長男友！\\u3000不敵遠距親認「現正單身中」', 'link': 'https://star.ettoday.net/news/2720979'}, {'title': '直擊校唱女王陳華巷內激吻！', 'link': 'https://star.ettoday.net/news/2720982'}, {'title': '汪小菲求婚Mandy「前夫心寒發聲」！', 'link': 'https://star.ettoday.net/news/2720976'}, {'title': '即／國1嚴重事故！貨櫃車衝到對向橫躺路中', 'link': 'https://www.ettoday.net/news/20240416/2720887.htm'}, {'title': '出國玩領5000元！2024旅遊補助\\u3000申請方式一次看', 'link': 'https://www.ettoday.net/news/20240416/2720451.htm'}, {'title': '', 'link': None}, {'title': '英超低調首富身價5800億\\u3000卻連公司櫃檯都不知道他', 'link': 'https://www.ettoday.net/news/20240417/2720969.htm'}, {'title': '獨／高職生魂斷沙洲！堂姊、同學悲赴現場認屍淚崩', 'link': 'https://www.ettoday.net/news/20240417/2721299.htm'}, {'title': '德州媽媽突發「不自殺聲明」！爆黃子佼案藏內鬼', 'link': 'https://star.ettoday.net/news/2721211'}, {'title': '台灣東部海域02:59規模5「極淺層地震」', 'link': 'https://www.ettoday.net/news/20240417/2720959.htm'}, {'title': '峮峮挨罵穿空姐裝像孕婦「本人落淚道歉了」！', 'link': 'https://star.ettoday.net/news/2721142'}, {'title': '', 'link': None}, {'title': '最夯影音', 'link': None}, {'title': '孫藝真聽「孫仙」害羞：我只是平凡人\\u3000初次訪台甜喊「下次跟玄彬一起來」', 'link': None}, {'title': 'LE SSERAFIM科切拉「開全麥翻車」\\u3000宮脇咲良親回：展現過最棒的舞台', 'link': '//boba.ettoday.net/videonews/420782'}, {'title': '雨琦「模仿台灣腔」突然問號\\u3000和Minnie在高雄去按摩被認出', 'link': '//boba.ettoday.net/videonews/420860'}, {'title': '澎湖驚見2米長雨傘旗魚！\\u3000花蓮地震後又現1稀有物種', 'link': '//boba.ettoday.net/videonews/420834'}, {'title': '典典寶寶「WOW.YA」浮誇反應做好做滿\\u3000一直討嘴嘴吃..趙小僑.劉亮佐求救！', 'link': '//boba.ettoday.net/videonews/420870'}, {'title': '熱門快報', 'link': None}, {'title': '誰能稱霸？投票抽百項好禮', 'link': 'https://star.ettoday.net/news/2699601'}, {'title': '房價飆漲！全台房市秘技大公開！', 'link': 'https://www.ettoday.net/feature/2021house'}, {'title': '新聞雲APP寵粉不手軟', 'link': 'https://star.ettoday.net/news/2700994'}, {'title': '專業明星師資、精湛教學！', 'link': 'https://ettoday.kaik.io/?utm_source=BNHO&utm_medium=ettoday'}, {'title': '快來追蹤ETtoday！', 'link': 'https://news.google.com/publications/CAAqBggKMK-yNzCn6gc?hl=zh-TW&gl=TW&ceid=TW%3Azh-Hant'}]\n"
          ]
        }
      ]
    },
    {
      "cell_type": "markdown",
      "source": [
        "儲存成json檔"
      ],
      "metadata": {
        "id": "srAxm6VTbefz"
      }
    },
    {
      "cell_type": "code",
      "source": [
        "df.to_json('news_data.json', orient='records')"
      ],
      "metadata": {
        "id": "btOGC-5qZhH1"
      },
      "execution_count": 10,
      "outputs": []
    },
    {
      "cell_type": "markdown",
      "source": [
        "儲存成google 試算表，再由試算表儲存成csv檔"
      ],
      "metadata": {
        "id": "lg6lyhnzbkCQ"
      }
    },
    {
      "cell_type": "code",
      "source": [
        "from google.colab import auth\n",
        "auth.authenticate_user()\n",
        "\n",
        "import google.auth\n",
        "from google.auth.transport.requests import Request\n",
        "from google.colab import auth\n",
        "from oauth2client.client import GoogleCredentials\n",
        "from gspread import authorize\n",
        "\n",
        "creds, _ = google.auth.default()\n",
        "gc = authorize(creds)"
      ],
      "metadata": {
        "id": "M0zwTNKkvgDT"
      },
      "execution_count": 11,
      "outputs": []
    },
    {
      "cell_type": "code",
      "source": [
        "def df_to_sheets(df, spreadsheet_id, sheet_name):\n",
        "  try:\n",
        "    sh = gc.open_by_key(spreadsheet_id)\n",
        "  except Exception as e:\n",
        "    print(f\"Error opening the Spreadsheet: {e}\")\n",
        "    return\n",
        "\n",
        "  try:\n",
        "    worksheet = sh.worksheet(sheet_name)\n",
        "  except gspread.WorksheetNotFound:\n",
        "    worksheet = sh.add_worksheet(title=sheet_name, rows=\"100\", cols=\"20\")\n",
        "\n",
        "  worksheet.update([df.columns.values.tolist()] + df.values.tolist())"
      ],
      "metadata": {
        "id": "s12MWhSGwAx7"
      },
      "execution_count": 12,
      "outputs": []
    },
    {
      "cell_type": "code",
      "source": [
        "spreadsheet_id = '1pe5RMEWSZ3TU28db6WyWHYaH3g3lZ28LlvvLuZ58c28'\n",
        "sheet_name = 'news_data'\n",
        "\n",
        "def truncate_to_limit(cell_value, limit=10000):\n",
        "  if len(cell_value) > limit:\n",
        "    return cell_value[:limit] + '... [內容過長，已停止寫入]'\n",
        "  else:\n",
        "    return cell_value"
      ],
      "metadata": {
        "id": "PZUSeCFvwgto"
      },
      "execution_count": 13,
      "outputs": []
    },
    {
      "cell_type": "code",
      "source": [
        "df_truncated = df.applymap(lambda x: truncate_to_limit(str(x)))\n",
        "df_truncated"
      ],
      "metadata": {
        "colab": {
          "base_uri": "https://localhost:8080/",
          "height": 441
        },
        "id": "WqarHwOnxT7u",
        "outputId": "5a78416d-03d7-4933-bb57-88a35ba8289a"
      },
      "execution_count": 14,
      "outputs": [
        {
          "output_type": "execute_result",
          "data": {
            "text/plain": [
              "                               title  \\\n",
              "0                               精彩專題   \n",
              "1                               熱門活動   \n",
              "2                               新聞總覽   \n",
              "3    社會前酒店少爺2度闖東家偷2.5萬小費　3男當街對他上銬也有事   \n",
              "4        影劇被問是什麼星座？嚴立婷狂回「雞」　對話曝光笑翻網友   \n",
              "..                               ...   \n",
              "129                     誰能稱霸？投票抽百項好禮   \n",
              "130                  房價飆漲！全台房市秘技大公開！   \n",
              "131                      新聞雲APP寵粉不手軟   \n",
              "132                     專業明星師資、精湛教學！   \n",
              "133                     快來追蹤ETtoday！   \n",
              "\n",
              "                                                  link  \n",
              "0                https://www.ettoday.net/feature/index  \n",
              "1                                                 None  \n",
              "2                                                 None  \n",
              "3    https://www.ettoday.net/news/20240417/2721593.htm  \n",
              "4                https://star.ettoday.net/news/2721512  \n",
              "..                                                 ...  \n",
              "129              https://star.ettoday.net/news/2699601  \n",
              "130          https://www.ettoday.net/feature/2021house  \n",
              "131              https://star.ettoday.net/news/2700994  \n",
              "132  https://ettoday.kaik.io/?utm_source=BNHO&utm_m...  \n",
              "133  https://news.google.com/publications/CAAqBggKM...  \n",
              "\n",
              "[134 rows x 2 columns]"
            ],
            "text/html": [
              "\n",
              "  <div id=\"df-a023d881-9f59-450b-8cd6-28239da4cf2a\" class=\"colab-df-container\">\n",
              "    <div>\n",
              "<style scoped>\n",
              "    .dataframe tbody tr th:only-of-type {\n",
              "        vertical-align: middle;\n",
              "    }\n",
              "\n",
              "    .dataframe tbody tr th {\n",
              "        vertical-align: top;\n",
              "    }\n",
              "\n",
              "    .dataframe thead th {\n",
              "        text-align: right;\n",
              "    }\n",
              "</style>\n",
              "<table border=\"1\" class=\"dataframe\">\n",
              "  <thead>\n",
              "    <tr style=\"text-align: right;\">\n",
              "      <th></th>\n",
              "      <th>title</th>\n",
              "      <th>link</th>\n",
              "    </tr>\n",
              "  </thead>\n",
              "  <tbody>\n",
              "    <tr>\n",
              "      <th>0</th>\n",
              "      <td>精彩專題</td>\n",
              "      <td>https://www.ettoday.net/feature/index</td>\n",
              "    </tr>\n",
              "    <tr>\n",
              "      <th>1</th>\n",
              "      <td>熱門活動</td>\n",
              "      <td>None</td>\n",
              "    </tr>\n",
              "    <tr>\n",
              "      <th>2</th>\n",
              "      <td>新聞總覽</td>\n",
              "      <td>None</td>\n",
              "    </tr>\n",
              "    <tr>\n",
              "      <th>3</th>\n",
              "      <td>社會前酒店少爺2度闖東家偷2.5萬小費　3男當街對他上銬也有事</td>\n",
              "      <td>https://www.ettoday.net/news/20240417/2721593.htm</td>\n",
              "    </tr>\n",
              "    <tr>\n",
              "      <th>4</th>\n",
              "      <td>影劇被問是什麼星座？嚴立婷狂回「雞」　對話曝光笑翻網友</td>\n",
              "      <td>https://star.ettoday.net/news/2721512</td>\n",
              "    </tr>\n",
              "    <tr>\n",
              "      <th>...</th>\n",
              "      <td>...</td>\n",
              "      <td>...</td>\n",
              "    </tr>\n",
              "    <tr>\n",
              "      <th>129</th>\n",
              "      <td>誰能稱霸？投票抽百項好禮</td>\n",
              "      <td>https://star.ettoday.net/news/2699601</td>\n",
              "    </tr>\n",
              "    <tr>\n",
              "      <th>130</th>\n",
              "      <td>房價飆漲！全台房市秘技大公開！</td>\n",
              "      <td>https://www.ettoday.net/feature/2021house</td>\n",
              "    </tr>\n",
              "    <tr>\n",
              "      <th>131</th>\n",
              "      <td>新聞雲APP寵粉不手軟</td>\n",
              "      <td>https://star.ettoday.net/news/2700994</td>\n",
              "    </tr>\n",
              "    <tr>\n",
              "      <th>132</th>\n",
              "      <td>專業明星師資、精湛教學！</td>\n",
              "      <td>https://ettoday.kaik.io/?utm_source=BNHO&amp;utm_m...</td>\n",
              "    </tr>\n",
              "    <tr>\n",
              "      <th>133</th>\n",
              "      <td>快來追蹤ETtoday！</td>\n",
              "      <td>https://news.google.com/publications/CAAqBggKM...</td>\n",
              "    </tr>\n",
              "  </tbody>\n",
              "</table>\n",
              "<p>134 rows × 2 columns</p>\n",
              "</div>\n",
              "    <div class=\"colab-df-buttons\">\n",
              "\n",
              "  <div class=\"colab-df-container\">\n",
              "    <button class=\"colab-df-convert\" onclick=\"convertToInteractive('df-a023d881-9f59-450b-8cd6-28239da4cf2a')\"\n",
              "            title=\"Convert this dataframe to an interactive table.\"\n",
              "            style=\"display:none;\">\n",
              "\n",
              "  <svg xmlns=\"http://www.w3.org/2000/svg\" height=\"24px\" viewBox=\"0 -960 960 960\">\n",
              "    <path d=\"M120-120v-720h720v720H120Zm60-500h600v-160H180v160Zm220 220h160v-160H400v160Zm0 220h160v-160H400v160ZM180-400h160v-160H180v160Zm440 0h160v-160H620v160ZM180-180h160v-160H180v160Zm440 0h160v-160H620v160Z\"/>\n",
              "  </svg>\n",
              "    </button>\n",
              "\n",
              "  <style>\n",
              "    .colab-df-container {\n",
              "      display:flex;\n",
              "      gap: 12px;\n",
              "    }\n",
              "\n",
              "    .colab-df-convert {\n",
              "      background-color: #E8F0FE;\n",
              "      border: none;\n",
              "      border-radius: 50%;\n",
              "      cursor: pointer;\n",
              "      display: none;\n",
              "      fill: #1967D2;\n",
              "      height: 32px;\n",
              "      padding: 0 0 0 0;\n",
              "      width: 32px;\n",
              "    }\n",
              "\n",
              "    .colab-df-convert:hover {\n",
              "      background-color: #E2EBFA;\n",
              "      box-shadow: 0px 1px 2px rgba(60, 64, 67, 0.3), 0px 1px 3px 1px rgba(60, 64, 67, 0.15);\n",
              "      fill: #174EA6;\n",
              "    }\n",
              "\n",
              "    .colab-df-buttons div {\n",
              "      margin-bottom: 4px;\n",
              "    }\n",
              "\n",
              "    [theme=dark] .colab-df-convert {\n",
              "      background-color: #3B4455;\n",
              "      fill: #D2E3FC;\n",
              "    }\n",
              "\n",
              "    [theme=dark] .colab-df-convert:hover {\n",
              "      background-color: #434B5C;\n",
              "      box-shadow: 0px 1px 3px 1px rgba(0, 0, 0, 0.15);\n",
              "      filter: drop-shadow(0px 1px 2px rgba(0, 0, 0, 0.3));\n",
              "      fill: #FFFFFF;\n",
              "    }\n",
              "  </style>\n",
              "\n",
              "    <script>\n",
              "      const buttonEl =\n",
              "        document.querySelector('#df-a023d881-9f59-450b-8cd6-28239da4cf2a button.colab-df-convert');\n",
              "      buttonEl.style.display =\n",
              "        google.colab.kernel.accessAllowed ? 'block' : 'none';\n",
              "\n",
              "      async function convertToInteractive(key) {\n",
              "        const element = document.querySelector('#df-a023d881-9f59-450b-8cd6-28239da4cf2a');\n",
              "        const dataTable =\n",
              "          await google.colab.kernel.invokeFunction('convertToInteractive',\n",
              "                                                    [key], {});\n",
              "        if (!dataTable) return;\n",
              "\n",
              "        const docLinkHtml = 'Like what you see? Visit the ' +\n",
              "          '<a target=\"_blank\" href=https://colab.research.google.com/notebooks/data_table.ipynb>data table notebook</a>'\n",
              "          + ' to learn more about interactive tables.';\n",
              "        element.innerHTML = '';\n",
              "        dataTable['output_type'] = 'display_data';\n",
              "        await google.colab.output.renderOutput(dataTable, element);\n",
              "        const docLink = document.createElement('div');\n",
              "        docLink.innerHTML = docLinkHtml;\n",
              "        element.appendChild(docLink);\n",
              "      }\n",
              "    </script>\n",
              "  </div>\n",
              "\n",
              "\n",
              "<div id=\"df-98f595a0-1501-4803-aa9f-13813bac3800\">\n",
              "  <button class=\"colab-df-quickchart\" onclick=\"quickchart('df-98f595a0-1501-4803-aa9f-13813bac3800')\"\n",
              "            title=\"Suggest charts\"\n",
              "            style=\"display:none;\">\n",
              "\n",
              "<svg xmlns=\"http://www.w3.org/2000/svg\" height=\"24px\"viewBox=\"0 0 24 24\"\n",
              "     width=\"24px\">\n",
              "    <g>\n",
              "        <path d=\"M19 3H5c-1.1 0-2 .9-2 2v14c0 1.1.9 2 2 2h14c1.1 0 2-.9 2-2V5c0-1.1-.9-2-2-2zM9 17H7v-7h2v7zm4 0h-2V7h2v10zm4 0h-2v-4h2v4z\"/>\n",
              "    </g>\n",
              "</svg>\n",
              "  </button>\n",
              "\n",
              "<style>\n",
              "  .colab-df-quickchart {\n",
              "      --bg-color: #E8F0FE;\n",
              "      --fill-color: #1967D2;\n",
              "      --hover-bg-color: #E2EBFA;\n",
              "      --hover-fill-color: #174EA6;\n",
              "      --disabled-fill-color: #AAA;\n",
              "      --disabled-bg-color: #DDD;\n",
              "  }\n",
              "\n",
              "  [theme=dark] .colab-df-quickchart {\n",
              "      --bg-color: #3B4455;\n",
              "      --fill-color: #D2E3FC;\n",
              "      --hover-bg-color: #434B5C;\n",
              "      --hover-fill-color: #FFFFFF;\n",
              "      --disabled-bg-color: #3B4455;\n",
              "      --disabled-fill-color: #666;\n",
              "  }\n",
              "\n",
              "  .colab-df-quickchart {\n",
              "    background-color: var(--bg-color);\n",
              "    border: none;\n",
              "    border-radius: 50%;\n",
              "    cursor: pointer;\n",
              "    display: none;\n",
              "    fill: var(--fill-color);\n",
              "    height: 32px;\n",
              "    padding: 0;\n",
              "    width: 32px;\n",
              "  }\n",
              "\n",
              "  .colab-df-quickchart:hover {\n",
              "    background-color: var(--hover-bg-color);\n",
              "    box-shadow: 0 1px 2px rgba(60, 64, 67, 0.3), 0 1px 3px 1px rgba(60, 64, 67, 0.15);\n",
              "    fill: var(--button-hover-fill-color);\n",
              "  }\n",
              "\n",
              "  .colab-df-quickchart-complete:disabled,\n",
              "  .colab-df-quickchart-complete:disabled:hover {\n",
              "    background-color: var(--disabled-bg-color);\n",
              "    fill: var(--disabled-fill-color);\n",
              "    box-shadow: none;\n",
              "  }\n",
              "\n",
              "  .colab-df-spinner {\n",
              "    border: 2px solid var(--fill-color);\n",
              "    border-color: transparent;\n",
              "    border-bottom-color: var(--fill-color);\n",
              "    animation:\n",
              "      spin 1s steps(1) infinite;\n",
              "  }\n",
              "\n",
              "  @keyframes spin {\n",
              "    0% {\n",
              "      border-color: transparent;\n",
              "      border-bottom-color: var(--fill-color);\n",
              "      border-left-color: var(--fill-color);\n",
              "    }\n",
              "    20% {\n",
              "      border-color: transparent;\n",
              "      border-left-color: var(--fill-color);\n",
              "      border-top-color: var(--fill-color);\n",
              "    }\n",
              "    30% {\n",
              "      border-color: transparent;\n",
              "      border-left-color: var(--fill-color);\n",
              "      border-top-color: var(--fill-color);\n",
              "      border-right-color: var(--fill-color);\n",
              "    }\n",
              "    40% {\n",
              "      border-color: transparent;\n",
              "      border-right-color: var(--fill-color);\n",
              "      border-top-color: var(--fill-color);\n",
              "    }\n",
              "    60% {\n",
              "      border-color: transparent;\n",
              "      border-right-color: var(--fill-color);\n",
              "    }\n",
              "    80% {\n",
              "      border-color: transparent;\n",
              "      border-right-color: var(--fill-color);\n",
              "      border-bottom-color: var(--fill-color);\n",
              "    }\n",
              "    90% {\n",
              "      border-color: transparent;\n",
              "      border-bottom-color: var(--fill-color);\n",
              "    }\n",
              "  }\n",
              "</style>\n",
              "\n",
              "  <script>\n",
              "    async function quickchart(key) {\n",
              "      const quickchartButtonEl =\n",
              "        document.querySelector('#' + key + ' button');\n",
              "      quickchartButtonEl.disabled = true;  // To prevent multiple clicks.\n",
              "      quickchartButtonEl.classList.add('colab-df-spinner');\n",
              "      try {\n",
              "        const charts = await google.colab.kernel.invokeFunction(\n",
              "            'suggestCharts', [key], {});\n",
              "      } catch (error) {\n",
              "        console.error('Error during call to suggestCharts:', error);\n",
              "      }\n",
              "      quickchartButtonEl.classList.remove('colab-df-spinner');\n",
              "      quickchartButtonEl.classList.add('colab-df-quickchart-complete');\n",
              "    }\n",
              "    (() => {\n",
              "      let quickchartButtonEl =\n",
              "        document.querySelector('#df-98f595a0-1501-4803-aa9f-13813bac3800 button');\n",
              "      quickchartButtonEl.style.display =\n",
              "        google.colab.kernel.accessAllowed ? 'block' : 'none';\n",
              "    })();\n",
              "  </script>\n",
              "</div>\n",
              "\n",
              "  <div id=\"id_4ad2fff9-3d84-465d-837c-d0803f1d1669\">\n",
              "    <style>\n",
              "      .colab-df-generate {\n",
              "        background-color: #E8F0FE;\n",
              "        border: none;\n",
              "        border-radius: 50%;\n",
              "        cursor: pointer;\n",
              "        display: none;\n",
              "        fill: #1967D2;\n",
              "        height: 32px;\n",
              "        padding: 0 0 0 0;\n",
              "        width: 32px;\n",
              "      }\n",
              "\n",
              "      .colab-df-generate:hover {\n",
              "        background-color: #E2EBFA;\n",
              "        box-shadow: 0px 1px 2px rgba(60, 64, 67, 0.3), 0px 1px 3px 1px rgba(60, 64, 67, 0.15);\n",
              "        fill: #174EA6;\n",
              "      }\n",
              "\n",
              "      [theme=dark] .colab-df-generate {\n",
              "        background-color: #3B4455;\n",
              "        fill: #D2E3FC;\n",
              "      }\n",
              "\n",
              "      [theme=dark] .colab-df-generate:hover {\n",
              "        background-color: #434B5C;\n",
              "        box-shadow: 0px 1px 3px 1px rgba(0, 0, 0, 0.15);\n",
              "        filter: drop-shadow(0px 1px 2px rgba(0, 0, 0, 0.3));\n",
              "        fill: #FFFFFF;\n",
              "      }\n",
              "    </style>\n",
              "    <button class=\"colab-df-generate\" onclick=\"generateWithVariable('df_truncated')\"\n",
              "            title=\"Generate code using this dataframe.\"\n",
              "            style=\"display:none;\">\n",
              "\n",
              "  <svg xmlns=\"http://www.w3.org/2000/svg\" height=\"24px\"viewBox=\"0 0 24 24\"\n",
              "       width=\"24px\">\n",
              "    <path d=\"M7,19H8.4L18.45,9,17,7.55,7,17.6ZM5,21V16.75L18.45,3.32a2,2,0,0,1,2.83,0l1.4,1.43a1.91,1.91,0,0,1,.58,1.4,1.91,1.91,0,0,1-.58,1.4L9.25,21ZM18.45,9,17,7.55Zm-12,3A5.31,5.31,0,0,0,4.9,8.1,5.31,5.31,0,0,0,1,6.5,5.31,5.31,0,0,0,4.9,4.9,5.31,5.31,0,0,0,6.5,1,5.31,5.31,0,0,0,8.1,4.9,5.31,5.31,0,0,0,12,6.5,5.46,5.46,0,0,0,6.5,12Z\"/>\n",
              "  </svg>\n",
              "    </button>\n",
              "    <script>\n",
              "      (() => {\n",
              "      const buttonEl =\n",
              "        document.querySelector('#id_4ad2fff9-3d84-465d-837c-d0803f1d1669 button.colab-df-generate');\n",
              "      buttonEl.style.display =\n",
              "        google.colab.kernel.accessAllowed ? 'block' : 'none';\n",
              "\n",
              "      buttonEl.onclick = () => {\n",
              "        google.colab.notebook.generateWithVariable('df_truncated');\n",
              "      }\n",
              "      })();\n",
              "    </script>\n",
              "  </div>\n",
              "\n",
              "    </div>\n",
              "  </div>\n"
            ],
            "application/vnd.google.colaboratory.intrinsic+json": {
              "type": "dataframe",
              "variable_name": "df_truncated",
              "summary": "{\n  \"name\": \"df_truncated\",\n  \"rows\": 134,\n  \"fields\": [\n    {\n      \"column\": \"title\",\n      \"properties\": {\n        \"dtype\": \"string\",\n        \"num_unique_values\": 132,\n        \"samples\": [\n          \"\\u6642\\u5c1a\\u5b6b\\u85dd\\u771f\\u4f86\\u53f0\\u884c\\u982d\\u5927\\u89e3\\u6790\\uff01\\u7d55\\u7f8e\\u7c89\\u8272\\u7a7f\\u642d\\u3000\\u9ad8\\u8ddf\\u978b\\u662f\\u51f1\\u7279\\u738b\\u5983\\u611b\\u724c\",\n          \"\\u653f\\u6cbb\\u300c\\u6050\\u6016\\u3001\\u5a01\\u6b0a\\u4e3b\\u7fa9\\u65e5\\u76ca\\u5347\\u9ad8\\u300d\\u3000\\u8521\\u82f1\\u6587\\uff1a\\u8207\\u570b\\u969b\\u5408\\u4f5c\\u634d\\u885b\\u6c11\\u4e3b\\u548c\\u5e73\",\n          \"\\u793e\\u6703\\u8cb7\\u8239\\u8d70\\u79c135\\u5104\\u5927\\u9ebb\\u300c\\u592a\\u7a7a\\u5305\\u300d\\u30001381kg\\u6bd2\\u54c1\\u5168\\u88ab\\u6284...10\\u4eba\\u6158\\u4e86\"\n        ],\n        \"semantic_type\": \"\",\n        \"description\": \"\"\n      }\n    },\n    {\n      \"column\": \"link\",\n      \"properties\": {\n        \"dtype\": \"string\",\n        \"num_unique_values\": 126,\n        \"samples\": [\n          \"https://www.ettoday.net/news/20240417/2721491.htm\",\n          \"https://sports.ettoday.net/news/2721566\",\n          \"https://star.ettoday.net/news/2721142\"\n        ],\n        \"semantic_type\": \"\",\n        \"description\": \"\"\n      }\n    }\n  ]\n}"
            }
          },
          "metadata": {},
          "execution_count": 14
        }
      ]
    },
    {
      "cell_type": "code",
      "source": [
        "df_to_sheets(df_truncated, spreadsheet_id, sheet_name)"
      ],
      "metadata": {
        "id": "JnRDQd0XxcL6"
      },
      "execution_count": 15,
      "outputs": []
    }
  ]
}