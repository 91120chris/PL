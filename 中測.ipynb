{
  "nbformat": 4,
  "nbformat_minor": 0,
  "metadata": {
    "colab": {
      "provenance": []
    },
    "kernelspec": {
      "name": "python3",
      "display_name": "Python 3"
    },
    "language_info": {
      "name": "python"
    }
  },
  "cells": [
    {
      "cell_type": "code",
      "execution_count": 2,
      "metadata": {
        "colab": {
          "base_uri": "https://localhost:8080/"
        },
        "id": "eKHEUdSMqA_L",
        "outputId": "bf762928-99f7-4462-b354-c264c9afd635"
      },
      "outputs": [
        {
          "output_type": "stream",
          "name": "stdout",
          "text": [
            "平均值: 189778.36651208502\n",
            "標準差: 105548.3568808908\n",
            "中位數: 178356.0\n"
          ]
        }
      ],
      "source": [
        "import pandas as pd\n",
        "import numpy as np\n",
        "df = pd.read_csv('adult.csv')\n",
        "\n",
        "income = df['Income'].values\n",
        "\n",
        "mean_income = np.mean(income)\n",
        "std_income = np.std(income)\n",
        "median_income = np.median(income)\n",
        "\n",
        "print(\"平均值:\", mean_income)\n",
        "print(\"標準差:\", std_income)\n",
        "print(\"中位數:\", median_income)"
      ]
    }
  ]
}